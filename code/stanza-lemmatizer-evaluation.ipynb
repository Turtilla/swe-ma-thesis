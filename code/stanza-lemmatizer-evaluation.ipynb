{
 "cells": [
  {
   "cell_type": "code",
   "execution_count": 1,
   "id": "2ad9ac73",
   "metadata": {},
   "outputs": [],
   "source": [
    "# imports\n",
    "import conllu\n",
    "import stanza"
   ]
  },
  {
   "cell_type": "code",
   "execution_count": 2,
   "id": "2c17604d",
   "metadata": {},
   "outputs": [],
   "source": [
    "file = '../data/memoirs_3k_corrected.conllu'"
   ]
  },
  {
   "cell_type": "code",
   "execution_count": 38,
   "id": "91a6176e",
   "metadata": {},
   "outputs": [],
   "source": [
    "def extract_conllu_data(filename: str, feature: str, sentences: bool = True):\n",
    "    #checking the validity of the feature argument\n",
    "    possible_features = ['lemma', 'upos', 'xpos', 'feats', 'head', 'deprel', 'deps', 'misc']\n",
    "    if feature not in possible_features:\n",
    "        print('Please specify a valid feature type.')\n",
    "        return\n",
    "    \n",
    "    # specifying lists\n",
    "    tokens = []\n",
    "    features = []\n",
    "    \n",
    "    with open(filename) as f:\n",
    "        text = f.read()\n",
    "    \n",
    "    sentences = conllu.parse(text)\n",
    "    \n",
    "    for sentence in sentences:\n",
    "        sent_tokens = []\n",
    "        sent_features = []\n",
    "        for entry in sentence:\n",
    "            token = entry['form']\n",
    "            feat = entry[feature]\n",
    "            \n",
    "            sent_tokens.append(token)\n",
    "            sent_features.append(feat)\n",
    "            \n",
    "            \n",
    "        tokens.append(sent_tokens)\n",
    "        features.append(sent_features)\n",
    "            \n",
    "    if not sentences:\n",
    "        tokens = [x for sentence in tokens for x in sentence]\n",
    "        features = [x for sentence in tokens for x in sentence]"
   ]
  },
  {
   "cell_type": "code",
   "execution_count": 39,
   "id": "3a43c103",
   "metadata": {},
   "outputs": [
    {
     "name": "stdout",
     "output_type": "stream",
     "text": [
      "['Dziad', 'mój', 'Melchior', 'urodzony', 'roku', '1741', 'we', 'wsi', 'Godziszewo', 'parafii', 'Rypnin', 'syn', 'komornika', 'ziemskiego', 'Jana', 'Komornika', 'ziemi', 'Dobrrzyńskiej', '(', 'a', 'nie', 'Antoniego', '–', 'Antoni', 'był', 'starszym', 'bratem', 'ś', '.', 'p', '.', 'Melchiora', '–', 'i', 'nie', 'rozumiem', 'skąd', 'się', 'wzięła', 'ta', 'myłka', ',', 'która', 'później', 'wdokumentach', 'się', 'powtarza', ')', 'i', 'matki', 'Ewy', 'z', 'Pinińskich', 'właścicieli', 'Dóbr', 'Strużewo', 'z', 'adlinencjami', 'Puszczanki', ',', 'Dąbrowy', 'części', ',', 'Ronantowizna', ',', 'Żółtowizna', ',', 'Będowszczyazna', ',', 'Kmińszczyzna', ',', 'Bęklowizna', ',', 'Ruszkowizna', '.', 'A', 'że', 'śp', 'Dziad', 'mój', 'był', 'najmłodszy', 'i', 'piąty', 'z', 'pomiędzy', 'Rodzeństwa', '–', 'odstąpił', 'swoją', 'część', 'najstarszemu', 'bratu', 'swojemu', 'Mateuszowi', 'komornikowi', 'ziemi', 'Dobrzyńskiej', 'za', 'ośm', 'tysięcy', 'tynfów', '.', 'Byli', 'jeszcze', 'bracia', 'Wawrzyniec', ',', 'Szymon', 'oraz', 'siostra', 'Panna', 'Urszula', 'Czermińska', '.', 'Stryjów', 'miał', 'śp', '.', 'Melchior', 'czterech', 'i', 'jedną', 'ciotkę', '–', 'Antoniego', 'Wawrzyńca', 'ożenionego', 'z', 'Głuską', 'z', 'niej', 'trzech', 'synów', 'Jakuba', ',', 'Łukasza', 'i', 'Floyrana', '.', 'Maciej', 'z', 'Chądzyńską', ',', 'Floryan', 'z', 'Korytyńską', ',', 'Wawrzyniec', 'z', 'Muczynowską', '–', 'mieli', 'syna', 'Ludwika', '–', 'Ciotka', 'za', 'Rzotoławskim', '–', 'wszystkich', 'braci', 'stryjecznych', 'śp', '.', 'Melchiora', 'było', '17', '.', 'Antonich', 'było', 'dwóch', 'brat', 'Jana', 'a', 'stryj', 'brata', 'Melchiora', 'i', 'Antoni', 'brat', 'Melchiora', '.', 'Niewiem', 'o', 'ile', 'to', 'prawda', '–', 'ale', 'mi', 'mówił', 'kuzyn', 'nasz', 'Karol', 'Czermiński', '–', 'jakoby', 'Dziad', 'jego', 'a', 'stryj', 'Melchiora', 'zaopiekował', 'się', 'młodzieniaszkiem', 'i', 'wziął', 'go', 'do', 'siebie', 'na', 'wychowanie', 'po', 'śmierci', 'Rodziców', '.', 'Był', 'podobno', 'Starostą', ',', 'ale', 'jakim', 'niepamiętam', '.', 'Był', 'w', 'zażyłych', 'stosunkach', 'z', 'Domem', 'Potockich', ',', 'prawdopodobnie', ',', 'Dziedziców', 'Brzeżan', 'i', 'Skolego', 'w', 'Stryjskim', '.', 'Gdy', 'zaś', 'Pan', 'Potocki', 'odwiedzał', 'Pana', 'Starostę', ',', 'znając', 'dobrze', 'całą', 'jego', 'rodzinę', '–', 'spostrzegł', 'młodego', 'Melchiora', '–', 'ładny', 'to', 'był', 'chłopczyna', 'więc', 'zapytał', 'Pan', 'Potocki', 'co', 'to', 'za', 'jeden', '.', 'Odpowiedział', 'mu', 'Pan', 'Starosta', 'całą', 'rzecz', '–', 'a', 'wtenczas', 'Pan', 'Potocki', 'zaproponował', ',', 'że', 'chce', 'go', 'wziąć', 'na', 'swój', 'dwór', '.', 'I', 'stało', 'się', ',', 'że', 'Melchiorek', 'sprytny', 'i', 'szykowny', 'z', 'natury', 'rychło', 'ujął', 'sobie', 'Pana', 'Potockiego', ',', 'i', 'tak', 'umiał', 'sobie', 'zjednać', 'zaufanie', 'swojego', 'Patrona', ',', 'że', 'ten', 'jadąc', 'raz', 'do', 'dóbr', 'swoich', 'Brzeżany', 'i', 'Skolego', 'wziął', 'go', 'sobie', 'za', 'sekretarza', '.', 'Przyjechawszy', 'do', 'Skolego', 'przekonał', 'się', ',', 'że', 'te', 'rozległe', 'dobra', 'w', 'górach', 'i', 'lasach', 'ogromnych', 'żadnej', 'nie', 'czynią', 'intraty', '–', 'i', 'utyskiwał', 'na', 'to', 'przed', 'Melchiorem', '.', 'Wtenczas', 'Dziad', 'mój', 'zaproponował', 'Panu', 'Potockiemu', 'żeby', '–', 'chcąc', 'z', 'lasów', 'jaki', 'taki', 'uzyskać', 'dochód', 'zaprowadzić', 'potażarnię', '.', 'Myśl', 'się', 'podobała', 'Panu', 'Potockiemu', 'i', 'zaproponował', 'Panu', 'Melchiorowi', 'żeby', 'objął', 'administracyę', 'tych', 'dóbr', 'i', 'myśl', 'swoją', 'wprowadził', 'w', 'życie', '.', 'Szczęśliwa', 'była', 'to', 'chwila', 'dla', 'Dziada', 'mojego', 'i', 'stanowiąca', 'o', 'przyszłości', 'jego', '.', 'Dochód', 'jaki', 'okazał', 'mój', 'Dziad', 'Panu', 'Potockiemu', 'był', 'jak', 'na', 'owe', 'czasy', 'piękny', '–', 'tak', 'że', 'ujęty', 'tem', 'zaproponował', 'śp', '.', 'Melchiorowi', 'jakąś', 'znaczną', 'tantiemę', 'z', 'tego', 'przedsiębiorstwa', '–', 'i', 'to', 'był', 'początek', 'jego', 'fortuny', '-', 'mogło', 'to', 'być', 'około', 'roku', '1767', '–', 'jak', 'świętej', 'pamięci', 'Pan', 'Melchior', 'wziął', 'w', 'dzierżawę', 'Czołhany', 'w', 'obwodzie', 'w', 'owe', 'czasy', 'w', 'Halickim', ',', 'później', 'w', 'Stryjskim', 'cyrkule', '.', 'Tam', 'się', 'ożenił', 'z', 'Panną', 'Kobylską', ',', 'zacnego', 'rodu', 'osobą', 'i', 'miał', 'z', 'nią', 'trzech', 'synów', 'Michała', ',', 'Józefa', 'i', 'Kazimierza', '–', 'niebawem', 'owdowiał', '.', 'Około', 'roku', '1784', 'pojechał', 'śp', '.', 'Melchior', 'za', 'wołami', '.', 'W', 'drodze', 'na', 'Posadzie', 'Chyrowskiey', 'zapędziły', 'się', 'woły', 'w', 'zboże', 'i', 'parę', 'sztuk', 'zajęto', 'do', 'dworu', '.', 'Właścicielką', 'była', 'z', 'domu', 'Dzianott', 'wdowa', 'po', 'dwóch', 'mężach', '–', 'z', 'pierwszym', 'Pierściorowskim', 'miała', 'córkę', 'Maryę', ',', 'Kleofasę', '.', 'Ustroiwszy', 'się', 'pokaźnie', 'pojechał', 'do', 'dworu', 'by', 'zapłacić', 'za', 'szkodę', '–', 'ale', 'o', 'wynagrodzeniu', 'nie', 'było', 'mowy', '.', 'Zastawiono', 'sute', 'śniadanie', 'z', 'starym', 'winem', '–', 'rada', 'była', 'gosposia', 'gościowi', 'a', 'śp', '.', 'Melchior', 'nie', 'namyślając', 'się', ',', 'gdy', 'mu', 'wdówka', 'wpadła', 'w', 'oko', '–', 'bez', 'wielu', 'korowodów', 'odezwał', 'się', 'do', 'niej', ':', '-', '„', 'wiesz', 'Asińdźka', 'co', '?', 'Jesteś', 'wdowa', '–', 'ja', 'wdowiec', '–', 'pobierzmy', 'się', '.', '”', 'A', 'na', 'to', 'Pani', 'Joanna', '–', '„', 'Ja', 'już', 'z', 'zamęścia', 'zrezygnowałam', 'zrezygnowała', 'm', ',', 'ale', 'że', 'mi', 'się', 'Waszmość', 'podobałeś', 'podobał', 'eś', ',', 'więc', 'jeżeli', 'wola', 'Twoja', 'oddam', 'Ci', 'moją', 'Kleosię', '”', '.', 'W', 'alkierzyku', 'słyszała', 'Kleosia', 'całą', 'rozmowę', '–', 'można', 'sobie', 'wyobrazić', 'co', 'działo', 'się', 'z', 'biedną', 'dziewczyną', '–', 'gdy', 'matka', 'zawołała', 'ją', 'do', 'bawialnego', 'pokoju', '.', 'Zgodziła', 'się', 'Kleosia', ',', 'ucałował', 'rączkę', 'drżącą', 'Pan', 'Melchior', '–', 'pożegnał', 'i', 'objecał', ',', 'że', 'z', 'powrotem', 'wstąpi', 'Pannie', 'się', 'submittować', '.', 'W', '1784', 'roku', 'w', 'kościele', 'Chyrowskim', 'pobłogosławił', 'związek', 'ówczesny', 'Dziekan', 'i', 'proboszcz', 'ksiądz', 'Michał', 'Józef', 'Rzepecki', '.', 'Z', 'tego', 'małżeństwa', 'były', 'dwie', 'córki', 'i', 'mój', 'Oyciec', 'Franciszek', 'Ksawery', ',', 'urodzony', 'w', 'Czołhanach', 'roku', '1786', '.', 'Starsi', 'bracia', 'mojego', 'Ojca', 'pokończywszy', 'nauki', 'osiedli', 'na', 'wsi', ',', 'a', 'córki', 'w', 'jakiś', 'czas', 'po', 'śmierci', 'mojej', 'Babki', ',', 'która', 'pono', 'w', 'Bolechowie', 'umarła', ',', 'bawiły', 'pod', 'opieką', 'Pani', 'starościny', 'Czermińskiej', 'we', 'Lwowie', '–', 'wyszły', 'za', 'mąż', 'jedna', 'za', 'Tretera', '–', 'szambelanica', ',', 'druga', 'za', 'Świeżawskiego', 'komornika', 'ziemskiego', 'i', 'właściciela', 'Maksymowic', 'w', 'Cyrkule', 'Samborskim', '.', 'Ojciec', 'wuja', 'mojego', 'Tretera', 'był', 'szambelanem', 'za', 'Stan', '.', 'Aug', '.', 'Poniatowskiego', '–', 'wielki', 'literat', '.', 'Pamiętam', 'go', 'jak', 'mieszkał', 'staruszek', 'u', 'moich', 'Rodziców', 'w', 'Bludnikach', '–', 'zajmował', 'w', 'oficynie', 'dwa', 'pokoje', '–', 'jeden', 'był', 'cały', 'zapełniony', 'książkami', '–', 'później', 'zbiór', 'swój', 'oddał', 'akademii', 'we', 'Lwowie', ',', 'gdzie', 'osobny', 'był', 'na', 'tę', 'bibliotekę', 'gabinet', 'oddany', 'z', 'napisem', 'nad', 'drzwiami', 'Abbum', 'Treterianum', '.', 'Przy', 'bombardowaniu', 'Lwowa', 'roku', '1848', '-', 'cała', 'akademia', 'w', 'została', 'w', 'perzynę', 'obrucona', '–', 'więc', 'i', 'zbiory', 'te', 'zniszczały', '.', 'Syn', 'jego', 'a', 'mój', 'wuj', 'był', 'to', 'fantasta', '–', 'oryginał', 'jakich', 'dziś', 'się', 'niespotyka', '.', 'Miał', 'majątek', ',', 'bo', 'i', 'po', 'ciotce', 'mojej', 'wziął', '100000', 'zł', '.', 'polskich', 'w', 'posagu', ',', 'to', 'zarządzał', 'jako', 'plenipotent', 'wielkimi', 'dobrami', ',', 'to', 'dzierżawił', '–', 'ale', 'w', 'rzeczy', 'samej', 'jeździł', 'po', 'znajomych', 'i', 'bawił', 'się', '.', 'Gdy', 'jechał', 'na', 'bryczce', 'siedząc', 'z', 'gitarą', 'w', 'ręku', 'wyśpiewywał', 'różne', 'arye', 'krakowiaki', 'i', 'kołomyjki', '.', 'Straciwszy', 'mienie', 'całe', 'jeździł', 'na', 'koniu', 'po', 'znajomych', 'a', 'zawsze', 'z', 'gitarą', 'w', 'ręku', 'i', 'ze', 'śpiewem', 'na', 'ustach', '.', 'Ciotka', 'moja', 'poczciwa', 'kobiecina', 'nieraz', 'bawiła', 'w', 'domu', 'mojego', 'Oyca', '–', 'od', 'niej', 'dużo', 'szczegółów', 'tyczących', 'familii', 'Oyca', 'się', 'dowiedziałam', 'dowiedziała', 'm', '.', 'Opowiadano', 'mi', 'też', 'zabawny', 'epizod', 'z', 'pożycia', 'moich', 'wujostwa', '.', 'Raz', 'wyjechała', 'ciotka', 'moja', 'z', 'domu', '–', 'w', 'jakiś', 'czas', 'powraca', '-', 'zastaje', 'katafalk', 'oświecony', 'a', 'na', 'nim', 'leży', 'Pan', 'Stanisław', '.', 'Zaraz', 'na', 'wstępie', 'opowiedziała', 'jej', 'czeladź', ',', 'że', 'Pan', 'tylko', 'udaje', 'bo', 'chce', 'wiedzieć', 'jak', 'Pani', 'będzie', 'żałować', '.', 'Więc', 'ciotka', 'moja', 'płacze', 'lamentuje', ',', 'żałuje', 'nieboszczyka', '-', 'wreszcie', 'uspokaja', 'się', 'i', 'do', 'nieboszczyka', 'przemawia', ':', '„', 'przeżyłam', 'przeżyła', 'm', 'z', 'Tobą', 'Stasiu', 'tyle', 'a', 'tyle', 'lat', '!', 'Zostawiasz', 'mię', 'z', 'dziećmi', 'na', 'opiece', 'Boskiej', '–', 'ani', 'kęsa', 'chleba', 'w', 'domu', '–', 'zato', ',', 'ażeby', 'Ci', 'Bóg', 'na', 'tamtym', 'świecie', 'wybaczył', '–', 'musisz', 'tu', 'odpokutować', '”', 'i', 'nuż', 'harapem', 'okładać', 'nieboszczyka', '–', 'i', 'nieboszczyk', 'zmartwychpowstał', '.', 'Dzieci', 'porozpuszczały', 'się', 'po', 'świecie', 'i', 'nie', 'wiem', 'gdzie', 'się', 'obracają', 'ich', 'rodziny', '.', 'Drugi', 'mój', 'wuj', 'Świerzawski', 'kuzyn', 'Polanowskich', 'z', 'Bełzkiego', 'często', 'bywał', 'w', 'Moszkowie', 'z', 'ciotką', '-', 'tam', 'bywał', 'duszą', 'towarzystwa', 'od', 'Pań', 'oblegany', '–', 'ale', 'ciotka', 'moja', 'była', 'dziwaczką', '–', 'opowiadał', 'mi', 'śp', '.', 'Dziadek', 'móy', 'Ostaszewski', 'że', 'jadąc', 'do', 'Zarszyna', 'w', 'Sanoku', 'parę', 'godzin', 'spędziła', 'na', 'strojeniu', 'się', 'i', 'trefieniu', 'a', 'jadąc', 'już', 'do', 'Zarszyna', 'musiała', 'służąca', 'całą', 'drogę', 'stać', 'na', 'stopniach', 'powozu', ',', 'żeby', 'się', 'suknia', 'Pani', 'Komornikowej', 'niepomięła', '–', 'z', 'tego', 'małżeństwa', 'było', 'dwóch', 'synów', '.', 'Jeden', 'i', 'drugi', 'pokończyli', 'nauki', 'ale', 'nie', 'poszło', 'im', 'w', 'ład', '.', 'Niewiem', 'jakim', 'sposobem', 'majątek', 'zniszczał', '–', 'jeden', 'syn', 'ożeniwszy', 'się', 'z', 'cioteczną', 'siostrą', 'Treterówną', '-', 'żeby', 'rodzinie', 'wstydu', 'nierobił', '.', 'Syn', 'ożeniwszy', 'się', 'z', 'cioteczną', 'siostrą', 'Treterówną', '–', 'założył', 'konwikt', 'w', 'Rosyi', '–', 'czy', 'na', 'Bukowinie', '–', 'drugi', 'jakiś', 'dziwak', 'napastował', 'ludzi', ',', 'aż', 'się', 'nim', 'Pan', 'Stanisław', 'Polanowski', 'zaopiekował', ',', 'wyznaczając', 'jakąś', 'miesięczną', 'subwencję', 'żeby', 'rodzinie', 'wstydu', 'nierobił', '.', 'Ojciec', 'móy', 'sierota', 'oddany', 'do', 'szkół', 'nie', 'bardzo', 'smakował', 'w', 'naukach', ',', 'niżeli', 'książki', 'wolał', 'konia', 'i', 'szabelkę', '.', 'Mogło', 'to', 'być', 'około', '1801', 'roku', '–', 'podpodczas', 'wojen', 'napoleońskich', 'zawerbował', 'się', 'do', 'Sachsen', 'Cobary', 'Ułanów', 'mając', 'lat', '14', '.', 'Kupił', 'Ojciec', 'kadectwo', ',', 'dał', 'konia', ',', 'wybuchła', 'wojna', 'niebawem', 'otrzymał', 'szlify', 'oficerskie', '.', 'Z', 'tych', 'czasów', 'niewiele', 'opowiadał', 'mi', 'ś', '.', 'p', '.', 'Ojciec', '–', 'a', 'ja', 'nieśmiałem', 'nieśmiał', 'em', 'wypytywać', '.', 'Wreszcie', 'niebyłem', 'niebył', 'em', 'nigdy', 'dłuższy', 'czas', 'z', 'Oycem', 'na', 'gawędce', '.', 'Młodzieniaszkiem', 'oddany', 'do', 'szkół', '–', 'w', 'czasie', 'świąt', 'lub', 'wakacji', '–', 'koń', '–', 'spacery', 'w', 'sąsiedztwa', ',', 'a', 'najwięcej', 'czasu', 'podróże', 'i', 'pobyt', 'u', 'Dziaduniów', 'w', 'Zarszynie', 'i', 'z', 'powrotem', 'znowu', 'do', 'szkół', 'a', 'Oyciec', 'ciągle', 'zajęty', 'gospodarstwem', ',', 'także', 'mało', 'zostawało', 'czasu', 'na', 'wspomnienia', 'lat', 'ubiegłych', '.', 'Zdaje', 'mi', 'się', ',', 'że', 'służbę', 'wojskową', 'zakończył', 'śp', '.', 'móy', 'Oyciec', 'około', '1808', '–', 'albo', '1809', '–', 'w', 'randze', 'nadporucznika', ',', 'zatrzymując', 'charakter', 'wojskowego', 'do', 'kończ', 'życia', '.', 'Brał', 'udział', 'we', 'wielu', 'bitwach', '–', 'a', 'pod', 'Iglan', 'był', 'ranny', 'w', 'rękę', 'a', 'pod', 'Wagram', 'stojąc', 'w', 'assekuracyi', 'armat', 'utracił', 'konia', ',', 'sam', 'kontuzjowany', 'leżał', 'na', 'pobojowisku', 'jak', 'nieżywy', '–', 'cały', 'pułk', 'pieszy', 'Francuzów', 'przemaszerował', 'po', 'nim', ',', 'kłując', 'bagnetami', 'lub', 'szpadą', 'w', 'plecy', '–', 'szczęście', ',', 'że', 'miał', 'płaszcz', 'zwinięty', 'obwiązany', 'przez', 'pierś', 'i', 'plecy', ',', 'że', 'tylko', 'małe', 'ukłucia', 'dostawały', 'się', 'do', 'krzyżów', '.', 'Dziadek', 'Melchior', 'do', 'tej', 'epoki', 'dorobił', 'się', 'znacznej', 'fortuny', 'skrzętnem', 'gospodarstwem', '.', 'Kupił', 'na', 'własność', 'wieś', 'Siemiginów', 'w', 'Stryjskim', '-', 'po', 'tem', 'jak', 'powiadano', 'za', 'indyki', 'których', 'po', 'parę', 'set', 'sztuk', 'do', 'Lwowa', 'w', 'czasie', 'karnawału', 'odesłał', ',', 'kupił', 'Bludniki', 'za', 'które', 'wyliczył', 'Pani', 'Rozwadowskiej', '10000', 'dukatów', '.', 'A', 'że', 'do', 'ceny', 'kupna', 'brakowało', '2000', 'dukatów', 'pełnłnomocnik', 'Pani', 'Rozwadowskiej', 'nie', 'chciał', 'przyjąć', 'skryptu', 'zakłopotał', 'się', 'mój', 'dziadek', 'skąd', 'tu', 'zaraz', 'wziąć', 'taką', 'sumę', '.', 'Wedle', 'dawnego', 'zwyczaju', '–', 'gdy', 'właściciel', 'zmieniał', '–', 'mandatariusz', 'miejscowy', 'zwoływał', 'gromadę', 'z', 'wójtem', 'na', 'czele', 'i', 'oddawał', 'tak', 'nazwane', 'posłuszeństwo', '–', 'Nowy', 'Dziedzic', 'wchodził', 'w', 'ten', 'sposób', 'w', 'fizyczne', 'we', 'posiadanie', 'majątku', 'z', 'prawami', 'pańszczyźnianymi', 'osypami', 'daninami', 'od', 'poddanych', '-', 'nad', 'któremi', 'obeymował', 'Dziedzictwo', 'opiekę', 'prawną', 'juryzdyksye', 'sądową', 'polityczną', 'i', 'policyjną', 'pierwszey', 'instantacyi', '.', 'Zaś', 'daniny', 'w', 'robocie', 'odbywali', 'poddani', 'wedle', 'ilości', 'posiadanych', 'morgów', '-', 'byli', 'więc', 'całorolni', 'gospodarze', 'albo', 'półrolni', '–', 'ci', 'winni', 'byli', 'odrabiać', 'pewną', 'ilość', 'dni', 'bydłem', 'co', 'tygodnia', '–', 'byli', 'zagrodnicy', '–', 'i', 'chałupnicy', '-', 'ci', 'odrabiali', 'powinności', 'pieszo', '.', 'Oprócz', 'tego', 'z', 'gruntów', 'całych', 'i', 'półgruntów', 'oddawali', 'poddani', 'jakąś', 'ilość', 'owsa', '–', 'korzec', 'albo', 'dwa', 'korce', 'jeden', 'gospodarz', '.', 'Oprócz', 'tego', 'ci', 'i', 'zagrodnicy', 'dawali', 'tak', 'zwane', 'spaśne', '-', 'kury', 'kapłony', 'kaczki', 'i', 'gęsi', ',', 'jaja', '–', 'miewali', 'oni', 'pastwiska', 'dla', 'bydła', 'gromadzkiego', '.', 'Także', 'obowiązane', 'były', 'chałupy', 'pewną', 'ilość', 'motków', 'uprząść', '–', 'za', 'to', 'Pan', 'dawał', 'opał', '-', 'pastwisko', 'ratował', 'w', 'biedzie', 'zbożem', 'a', 'nawet', 'inwentarzem', '.', 'Wieleż', 'to', 'razy', 'słyszałem', 'słyszał', 'em', 'śp', '.', 'Dziadka', 'Ostaszewskigo', 'jak', 'się', 'chlubił', ',', 'że', 'jego', 'kmiecie', 'na', 'Długim', 'najlepsze', 'mają', 'konie', 'z', 'okolicy', '–', 'ale', 'jeżeli', 'któremu', 'padło', 'bydle', 'robocze', '–', 'zaraz', 'dawał', 'pieniądze', '–', 'żeby', 'robota', 'ciągła', 'do', 'dworu', 'nie', 'ustawała', '.', 'A', 'gdy', 'raz', 'Dłużanie', 'żalili', 'się', ',', 'że', 'niemają', 'dogodnego', 'pastwiska', 'dla', 'koni', '–', 'Oddzieli', 'śp', '.', 'Pan', 'Kazimierz', '60', 'morgów', 'suchey', 'łąki', 'podedworem', 'a', 'nayskładniey', 'położone', 'dla', 'kmieci', ',', 'i', 'oddał', 'w', 'posiadanie', '.', 'Niebył', 'to', 'obowiązek', 'spełniony', 'ale', 'był', 'ten', 'czyn', 'wypływem', 'poczucia', 'obywatelskiego', ',', 'życzliwości', 'dla', 'poddanych', '.', 'Oycowskiey', '.', 'Należało', 'też', 'do', 'dworu', 'prawo', 'wyszynku', 'napar', 'prawo', 'warżenia', 'piwa', 'i', 'wódki', 'prawo', 'stawiania', 'młynów', 'i', 'wyłączne', 'prawo', 'rybołówstwa', '-', 'posiadania', 'lasu', 'i', 'polowania', 'na', 'całym', 'obszarze', 'tak', 'dworskim', 'jak', 'i', 'gromadzkim', '.', 'Jeżeli', 'gromadzie', 'pozwolono', 'zbierać', 'grzyby', 'w', 'lesie', '–', 'obowiązani', 'byli', 'leśni', '-', 'poddani', 'uwolnieni', 'za', 'tę', 'służbę', 'od', 'pańszczyzny', 'za', 'to', 'dawać', 'wianki', 'suszonych', 'grzybów', '–', 'miarkmi', 'wianki', 'powinny', 'były', 'mierzyć', 'wysokość', 'dziedzica', '.', 'Jeżeli', 'chłop', 'miał', 'pasiekę', '–', 'dawał', 'też', 'z', 'niego', 'dziesięcinę', ',', 'to', 'jest', 'dziesiąty', 'pniak', 'do', 'dworu', '.', 'Zdawałoby', 'Zdawało', 'by', 'się', '–', 'że', 'przy', 'takiem', 'obciążeniu', 'gruntu', 'obowiązkami', 'dla', 'dworu', '–', 'chłop', 'był', 'biedny', '-', 'jednakże', 'tak', 'nie', 'było', '–', 'majątki', 'były', 'wyłącznie', 'w', 'ręku', 'szlachty', '–', 'pieczęć', 'urzędowa', 'jurysdykcyi', 'był', 'Herb', 'Dziedzica', '–', 'a', 'dokoła', 'napis', 'Dominium', 'Bludniki', '–', 'Zarszyn', '–', 'i', 't', '.', 'p', '.', 'Nieszlachcic', 'niemógł', 'kupować', 'majątku', 'ziemskiego', '.', 'Dziedzic', 'postanawiał', 'na', 'swojem', 'mieycus', 'Mandatariusza', '-', 'który', 'obliczał', 'podatki', 'wybierał', 'rekruta', 'i', 'odstawiał', 'do', 'urzędu', 'cyrkularnego', ',', 'urzędował', '–', 'egzekował', '–', 'karał', '–', 'w', 'tak', 'nazwanym', 'urzędzie', 'Dominikalnym', '.', 'Był', 'też', 'władzą', 'opiekuńczą', '–', 'niemogło', 'się', 'żadne', 'małżeństwo', 'skojarzyć', 'we', 'wsi', 'i', 'ksiądz', 'nie', 'dał', 'ślubu', '–', 'dopokąd', 'z', 'Dominii', 'nieprzyniósł', 'kartki', 'pozwolenia', '.', 'A', 'chociaż', 'i', 'tu', 'mogły', 'się', 'dziać', 'nadużycia', '–', 'mogły', 'one', 'być', 'wyjątkowe', ',', 'bo', 'Pan', 'we', 'wsi', 'czuwał', 'nad', 'gromadą', '–', 'a', 'ktoby', 'był', 'niesprawiedliwym', 'dla', 'poddanych', 'stawał', 'pod', 'pręgierzem', 'w', 'opinii', 'obywatelskiej', '.', 'W', 'ten', 'czas', 'dbano', 'o', 'nią', '–', 'i', 'szanowano', '.', 'Pamiętam', 'że', 'przybył', 'z', 'Podola', 'szlachcic', 'w', 'Sanockie', '–', 'słynny', 'ze', 'zdzierstwa', 'poddanych', '–', 'i', 'nieprawego', 'stosunku', 'kawalerskiego', 'w', 'domu', 'P', '.', 'T', 'Dziadek', 'móy', 'mawiał', '–', 'niech', 'noga', 'Pana', 'tego', 'nie', 'powstanie', 'na', 'progu', 'mojego', 'domu', '.', 'Mandatariaty', 'po', 'większej', 'części', 'obsadzane', 'były', 'szlachtą', 'zagonową', '–', 'cząstkową', '–', 'czynszową', '–', 'Chłopak', 'poduczył', 'się', 'w', 'szkołach', 'normalnych', '–', 'dziś', 'ludowemi', 'zwanych', 'czytać', ',', 'pisać', ',', 'rarachować', '–', 'czasem', 'lizną', 'trochę', 'łaciny', 'w', 'gymnazyum', '–', 'szedł', 'na', 'praktykę', 'na', 'pisarza', 'do', 'mandataryusza', '–', 'poduczywszy', 'się', 'trochę', 'prawa', '–', 'manipulacyi', 'urzędowey', '–', 'zdawał', 'egzamin', 'w', 'Starostwie', 'w', 'Cyrkule', 'i', 'dostawał', 'dekret', 'na', 'reprezentanta', 'Domnikalnego', 'czyli', 'Mandataryusza', '.', 'Mandatyrusza', 'przyjmował', 'Dziedzic', 'na', 'swoją', 'odpowiedzialność', 'ręcząc', 'za', 'podatki', 'i', 'depozyta', 'starościńskie', '.', 'Mandataryusz', 'pobierał', 'od', 'Dziedzica', 'pensyę', 'od', '120', 'do', '200', '–', '300', 'fl', '20', 'do', '50', 'korcy', 'ordynaryi', '–', 'ogród', ',', 'pomieszkanie', 'opał', '–', 'pastwisko', '–', 'stosownie', 'do', 'majątku', 'w', 'jakim', 'zastępował', 'Dziedzica', '.', 'Mimo', 'tak', 'szczupłey', 'dotacyi', 'uwzględniając', 'taniość', 'życia', 'w', 'one', 'czasy', '–', 'gdzie', 'funt', 'mięsa', 'kosztował', 'dzisiejszych', '4', 'do', '5', 'centów', '–', 'korzec', 'owsa', 'cwansigera', '–', 'czyli', '33', 'centy', '–', 'korzec', 'żyta', 'dzisiejszych', '1', 'fl', '–', 'kartofli', 'korzec', '10', 'do', '14', 'centów', '–', 'mając', 'przytem', 'jakiś', 'procent', 'od', 'poboru', 'podatków', 'i', 'małe', 'ale', 'częste', 'obrywki', 'Panowie', 'ci', 'mieli', 'się', 'nieźle', 'i', 'nieraz', 'lepiey', 'jak', 'dzisiejszy', 'komisarz', 'cyrkularny', '.', 'Tak', 'też', 'było', 'i', 'Panom', 'Urzędnikom', 'Cyrkularnym', '–', '.', 'Pamiętam', ',', 'że', 'przyjeżdżał', 'do', 'nas', 'komisarz', 'Zebold', '–', 'ładąn', 'parą', 'siwoszów', ',', 'ładna', 'stayermarka', '(', 'bryczka', 'niekryta', ')', 'elegancko', 'ubrany', '–', 'a', 'brał', 'pensyi', '600', 'fl', '.', 'Otóż', 'wracając', 'się', 'do', 'chwili', 'gdy', 'móy', 'Dziad', 'podbierając', 'posłuszeństwo', 'w', 'Bludnikach', '–', 'do', 'Bludnik', 'należały', 'Pokasowce', 'i', 'Siedliska', '–', 'wobec', 'zakłopotania', 'nowego', 'Dziedzica', '–', 'jeden', 'z', 'gromady', 'najbliższy', 'sąsiad', 'dworu', 'nazywał', 'się', 'Notiak', '–', 'a', 'pamiętam', 'doskonale', 'jego', 'Syna', '–', 'a', 'może', 'to', 'jego', 'samego', 'bośmy', 'bo', 'śmy', 'do', 'niego', 'nieraz', 'wstępowali', '–', 'chata', 'była', 'obszerna', 'czysta', '–', 'świetlica', '(', 'pokój', 'do', 'przyjęcia', 'gości', ')', 'obszerna', 'dokoła', 'ławy', 'i', 'stół', 'nakryty', 'długim', 'rantuchem', '–', '(', 'płótno', 'szerokie', 'bielone', 'grube', 'po', 'końcach', 'czerwoną', 'przędzą', 'i', 'frędzlą', 'białą', 'zkończone', ')', 'na', 'nim', 'bochenek', 'chleba', 'i', 'sól', '–', 'i', 'dzban', '–', 'niewiem', 'czy', 'z', 'nalewką', 'jaką', 'czy', 'z', 'wodą', '–', 'gotowe', 'każdej', 'chwili', 'do', 'przyjęcia', 'gości', '–', 'Otóż', 'ów', 'Notiak', 'wysuwa', 'się', 'naprzód', 'i', 'pyta', 'o', 'co', 'Panu', 'Dziedzicowi', 'chodzi', '.', 'Dziadek', 'móy', 'odpowiedział', 'mu', 'Ty', 'człowiecze', 'na', 'to', 'mi', 'nieporadzisz', '–', 'a', 'gdy', 'chłopisko', 'zaczął', 'nalegać', 'powiedział', 'mu', 'Dziadek', 'potrzebuję', '2000', 'Dukatów', '–', 'i', 'cóż', 'ty', 'na', 'to', 'poradzisz', '?', 'A', 'wówczas', 'Notiak', 'prosił', 'żeby', 'Dziedzic', 'przyjął', 'jego', 'pomoc', ',', 'bo', 'on', 'tę', 'sumę', 'zaraz', 'z', 'domu', 'przyniesie', '–', 'i', 'na', 'poczekaniu', 'przyniósł', 'i', 'wyliczył', '2000', 'sztuk', 'złota', '.', 'Takich', 'gospodarzy', 'jeszcze', 'za', 'mojey', 'pamięci', 'liczono', 'sześciu', 'w', 'Bludnikach', '.', 'Mandatariuszem', 'w', 'owe', 'czasy', 'był', 'Pan', 'Witwicki', 'i', 'był', 'jaszcze', 'tam', 'za', 'mojej', 'pamięci', '.', 'Proboszczem', 'był', 'ks', '.', 'Głowacki', ',', 'księżunio', 'od', 'siekiery', '–', 'ale', 'dobry', 'człowiek', 'był', 'to', 'oyciec', 'owego', 'Głoweckiego', '–', 'który', 'przeszedł', 'w', 'Lubelskie', 'jako', 'pop', 'szyzmatycki', 'jako', 'renegat', 'tam', 'się', 'wsławił', '.', 'I', 'tak', 'późney', 'dokupił', 'Dziad', 'móy', 'Dorchów', 'i', 'Kurypów', '–', 'W', 'Dochorowie', 'osadził', 'nayjstarszego', 'syna', 'Michała', '–', 'a', 'oddając', 'masę', 'tych', 'dóbr', 'napisał', 'w', 'ruskim', 'języku', '–', 'Toje', 'diło', 'daruju', 'ukochanomu', 'Synu', 'mojomu', 'Mychayłowu', '.', 'Bludniki', 'oddał', 'Panu', 'Józefowi', 'iOycu', 'mojemu', '.', 'Pan', 'Józef', 'prowadził', 'zarząd', 'domowego', 'gospodarstwa', 'i', 'ogrodów', '–', 'Oyciec', 'móy', 'objął', 'gospodarstwo', 'rolne', ',', 'trwało', 'to', 'tak', 'aż', 'do', 'roku', 'ożenienia', 'się', 'mojego', 'Oyca', 'pono', '1813', 'albo', '1814', '–', 'Pana', 'Józefa', 'wziął', 'Dziadek', 'móy', 'do', 'Siebie', 'do', 'Siemginowa', '–', 'i', 'aż', 'dośmierci', 'Oyca', 'przy', 'Nim', 'zostawał', '–', 'gospodarując', 'bo', 'Dziadek', 'móy', 'ku', 'końcowi', 'swojego', 'życia', 'ociemniał', '.', 'Zdejmował', 'Mu', 'kataraktę', 'Doktor', 'Słowikowski', ',', 'ale', 'nie', 'dobrze', 'poszła', 'operacya', 'i', 'ile', 'sobie', 'przypominam', 'około', '1826', '.', 'Dziadek', 'umarł', ',', 'a', 'Pan', 'Józef', 'objął', 'na', 'własność', 'Semiginów', '.', 'Panu', 'Kazimierzowi', 'wydzielił', 'Oyciec', 'schedę', 'kapitałem', '.', 'Osiadł', 'on', 'w', 'końcu', 'pono', 'w', 'Lipie', '–', 'ale', 'która', 'to', 'Lipa', 'niewinem', '.', 'Pan', 'Michał', 'był', 'najstarszy', 'w', 'rodzinie', 'sąsiadował', 'z', 'Bludnikami', 'o', 'miedzę', '.', 'Ożeniony', 'ze', 'Zabilską', 'z', 'Temerowiec', ',', 'siostra', 'Teodora', 'i', 'Stanisława', 'Zabilskich', '–', 'miał', 'Syna', 'jedynaka', 'Sabina', '.', 'Wcześnie', 'go', 'Oyciec', 'odumarł', 'ale', 'i', 'syn', 'niedługo', 'poszedł', 'za', 'Oycem', 'doszedłszy', 'lat', 'około', '24', 'na', 'tyfus', 'zachorował', 'i', 'umarł', '.', 'Majątek', 'prawem', 'sukcessyi', 'przeszedł', 'po', 'synie', 'na', 'Matkę', '–', 'a', 'ta', 'zapisała', 'Dorchów', 'bratu', 'swojemu', 'Teodorowi', 'żona', 'temu', 'pono', 'z', 'Jordanówną', 'z', 'Bełzkiego', ',', 'ten', 'zostawił', 'Dorchów', 'swojemu', 'synowi', '.', '–', 'Pan', 'Kazimierz', 'zmarł', 'kawalerem', '.', 'Bywał', 'często', 'u', 'moich', 'Rodziców', '–', 'niebył', 'gospodarzem', 'więcey', 'fantasta', '–', 'pamiętam', ',', 'że', 'lubił', 'siadywać', 'między', 'czeladzią', 'i', 'w', 'kuchni', 'czytywał', 'wgłos', '„', 'Pana', 'Tadeusza', '”', ',', 'skupował', 'masami', 'poziomki', 'i', 'częstował', 'cały', 'dwór', '.', 'Był', 'bardzo', 'pobożny', '–', 'do', 'excentryczności', '.', 'Gdy', 'przyszedł', 'post', '–', 'ligał', 'na', 'gołey', 'podłodze', 'obok', 'łóżka', 'dyscypliną', 'mortyfikował', 'ciało', '–', 'Zapraszał', 'do', 'tey', 'praktyki', 'do', 'siebie', 'zakonników', '–', 'ale', 'ci', 'niemogli', 'długo', 'wytrwać', 'i', 'uciekali', '.', 'Gdy', 'przyszedł', 'wielki', 'piątek', '–', 'nietylko', 'czeladź', 'ale', 'i', 'bydło', 'musiało', 'suszyć', 'więc', 'sądny', 'to', 'był', 'dzień', 'bo', 'ryku', 'i', 'kwiku', 'na', 'obeyściu', 'niemożna', 'było', 'wysłuchać', '.', 'Człowiek', 'ten', 'ukończył', 'prawa', 'bardzo', 'był', 'oczytany', '–', 'poczciwy', '–', 'zacny', 'tylko', 'raptus', '.', 'Zastała', 'go', 'raz', 'służba', 'klęczącym', 'ze', 'złożonymi', 'rękoma', 'nieżywym', '.', 'Sukcesya', 'po', 'mim', ',', 'której', 'część', 'i', 'na', 'mojego', 'Oyca', 'spadała', 'odstąpił', 'On', 'Siostrom', 'swoim', 'rodzonym', 'Treterowej', 'i', 'Swieżaskiey', '.', 'Pan', 'Józef', 'ożenił', 'się', 'po', 'śmierci', 'Oyca', 'z', 'Panną', 'Julią', 'Świeżyńską', 'urodzoną', 'ze', 'Zawadzkich', '–', 'mieli', 'oni', 'część', 'wsi', 'Łukowiec', 'w', 'Stryiskim', 'w', 'górach', 'czy', 'Kruszelnicę', '–', 'liczne', 'było', 'rodzeństwo', ',', 'siedziało', 'razem', 'kilka', 'generacyi', 'na', 'jednem', 'obeyściu', 'było', 'dwa', 'dwory', '-', '2', 'Panny', 'niemając', 'widoków', 'dla', 'siebie', 'poszły', 'na', 'nauczycielki', '.', 'Jedna', 'była', 'okropnie', 'brzydka', '–', 'druga', 'bardzo', 'przystoyna', '(', 'obie', 'nauczycielkami', ')', 'ale', '–', 'jakby', 'jakieś', 'fatum', 'Panna', 'Julia', 'dostała', 'się', 'w', 'sąsiedztwo', 'Bludnik', 'do', 'Martynowa', 'do', 'Państwa', 'Rudzkich', 'gdzie', 'były', 'dwie', 'panienki', '–', 'z', 'tąd', 'bywała', 'z', 'tym', 'domem', 'u', 'moich', 'rodziców', '.', 'Jakby', 'instynktownie', 'Matka', 'moja', 'jey', 'znieść', 'niemogła', '.', 'Pan', 'Józef', 'osiadły', 'na', 'Siemiginowie', 'już', 'starym', 'kawalerem', 'zbijał', 'talarki', 'oszczędzał', '–', 'ale', 'dla', 'kogo', '?', 'Znalazła', 'się', 'na', 'to', 'rada', 'przyjaciół', '–', 'byli', 'to', 'krewni', 'Panny', 'Juli', ',', 'utyskiwali', 'że', 'Pan', 'Józef', 'tak', 'samotnie', 'wiedzie', 'życie', ',', 'że', 'niema', 'sukcessorów', ',', 'że', 'zdało', 'by', 'się', 'żeby', 'sobie', 'starość', 'swoją', 'odmłodził', 'piękną', 'młodą', 'żoneczką', '–', 'ale', 'Panu', 'Józefowi', 'niechciało', 'ruszać', 'się', 'z', 'domu', '–', 'gospodarzył', 'chował', 'stado', 'po', 'Ojcu', 'oddziedziczone', 'znaczne', ',', 'pielęgnował', 'sady', 'i', 'zbijał', 'pieniądze', '.', 'Wreszcie', 'zaproszono', 'do', 'Kruszelnicy', 'o', 'kilka', 'mil', 'odległey', 'od', 'Siemignowa', '–', 'rzecz', 'była', 'ukartowana', '–', 'pojawiła', 'się', 'hoża', 'jak', 'łania', 'Panna', 'Julia', 'i', 'wyswatano', 'Jegomości', 'już', 'bardzo', 'niemłodego', '.', 'Było', 'to', 'około', '1829', 'albo', '1830', 'roku', '.', 'Z', 'małżeństwa', 'tego', 'była', 'jedyna', 'córka', 'Sabina', ',', 'jedyna', 'sukcessorka', 'Siemiginowa', '–', 'dla', 'żony', 'kupił', 'Pan', 'Józef', 'miejscowość', 'Leśniowice', 'z', 'Polanką', 'pod', 'Lwowem', 'koło', 'Nawaryi', 'i', 'tam', 'życie', 'zakończył', 'roku', '1845', '.', 'Ledwie', 'się', 'żałoba', 'skończyła', 'zaczęli', 'uwijać', 'się', 'konkurenci', 'o', 'rękę', 'niemłodej', 'już', ',', 'ale', 'ciepłey', 'wdowy', '.', 'Bałamuciła', 'przebierała', '–', 'wreszcie', 'wybrała', 'pana', 'Szołayskiego', 'młodzika', 'około', '24', 'lat', 'liczącego', '–', 'sybarytę', 'próżniaka', 'toteż', 'po', 'dwuletnim', 'z', 'nim', 'pożyciu', '–', 'nastąpiła', 'Separacya', '.', 'Pani', 'Julia', 'secundo', 'voto', 'Szołayska', 'lubiła', 'procesa', '–', 'miała', 'ich', 'też', 'sporo', '–', 'były', 'chwile', ',', 'że', 'już', 'cały', 'swój', 'majątek', 'zaryzykowała', '–', 'ale', 'się', 'z', 'tego', 'wywikłała', '–', 'dokupiła', 'i', 'do', 'Lesniowic', 'przyległe', 'Mosty', '.']\n"
     ]
    }
   ],
   "source": [
    "extract_conllu_data(file, 'lemma')"
   ]
  },
  {
   "cell_type": "code",
   "execution_count": 3,
   "id": "32142e86",
   "metadata": {},
   "outputs": [],
   "source": [
    "with open(file) as f:\n",
    "    text = f.read()"
   ]
  },
  {
   "cell_type": "code",
   "execution_count": 5,
   "id": "ada35491",
   "metadata": {},
   "outputs": [],
   "source": [
    "sentences = conllu.parse(text)"
   ]
  },
  {
   "cell_type": "code",
   "execution_count": 7,
   "id": "af1ac384",
   "metadata": {},
   "outputs": [
    {
     "data": {
      "text/plain": [
       "{'id': 1,\n",
       " 'form': 'Dziad',\n",
       " 'lemma': 'dziad',\n",
       " 'upos': 'NOUN',\n",
       " 'xpos': 'subst:sg:nom:m1',\n",
       " 'feats': None,\n",
       " 'head': None,\n",
       " 'deprel': '_',\n",
       " 'deps': None,\n",
       " 'misc': None}"
      ]
     },
     "execution_count": 7,
     "metadata": {},
     "output_type": "execute_result"
    }
   ],
   "source": [
    "sentences[0][0]"
   ]
  },
  {
   "cell_type": "code",
   "execution_count": null,
   "id": "adb9fbf7",
   "metadata": {},
   "outputs": [],
   "source": []
  }
 ],
 "metadata": {
  "kernelspec": {
   "display_name": "Python 3 (ipykernel)",
   "language": "python",
   "name": "python3"
  },
  "language_info": {
   "codemirror_mode": {
    "name": "ipython",
    "version": 3
   },
   "file_extension": ".py",
   "mimetype": "text/x-python",
   "name": "python",
   "nbconvert_exporter": "python",
   "pygments_lexer": "ipython3",
   "version": "3.8.10"
  }
 },
 "nbformat": 4,
 "nbformat_minor": 5
}
