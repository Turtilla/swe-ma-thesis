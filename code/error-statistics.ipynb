{
 "cells": [
  {
   "cell_type": "markdown",
   "id": "17eaf5ea",
   "metadata": {},
   "source": [
    "# BERT EVALUATION"
   ]
  },
  {
   "cell_type": "markdown",
   "id": "d1794bed",
   "metadata": {},
   "source": [
    "### IMPORTS, VARIABLES"
   ]
  },
  {
   "cell_type": "code",
   "execution_count": 1,
   "id": "00e429a2",
   "metadata": {},
   "outputs": [],
   "source": [
    "import pandas as pd"
   ]
  },
  {
   "cell_type": "code",
   "execution_count": null,
   "id": "07b0a145",
   "metadata": {},
   "outputs": [],
   "source": [
    "lemma_errors = pd.read_excel('../data/results/all_lemmas_annotated.xlsx')\n",
    "xpos_errors = pd.read_excel('../data/results/all_xpos_annotated.xlsx')\n",
    "upos_errors = pd.read_excel('../data/results/all_upos_annotated.xlsx')"
   ]
  },
  {
   "cell_type": "markdown",
   "id": "0356d4c8",
   "metadata": {},
   "source": [
    "### FUNCTIONS"
   ]
  },
  {
   "cell_type": "code",
   "execution_count": null,
   "id": "7ccb4a30",
   "metadata": {},
   "outputs": [],
   "source": [
    "def get_error_stats(errors: list):\n",
    "    '''A function intended for creating and displaying statistics for manually annotated errors.\n",
    "    \n",
    "    Args:\n",
    "        errors (DataFrame): a Pandas DataFrame created by reading from an .xlsx file containing manually annotated errors.\n",
    "        \n",
    "    Returns:\n",
    "        A DataFrane containing the raw and relative frequencies for every error type found in the annotation.    \n",
    "    '''\n",
    "    stats = []\n",
    "    for error in set(errors['Error Type']):\n",
    "        raw = errors['Error Type'].value_counts()[error]\n",
    "        relative = raw / len(errors)\n",
    "        \n",
    "        stats.append([error, raw, relative])\n",
    "        \n",
    "    stats_pd = pd.DataFrame(\n",
    "        stats, \n",
    "        columns=['error', 'raw', 'relative']\n",
    "    ).sort_values('relative', ascending=False).set_index('error')\n",
    "\n",
    "    return stats_pd"
   ]
  },
  {
   "cell_type": "markdown",
   "id": "0ca573dd",
   "metadata": {},
   "source": [
    "### EXECUTION "
   ]
  },
  {
   "cell_type": "code",
   "execution_count": null,
   "id": "f890de64",
   "metadata": {},
   "outputs": [],
   "source": [
    "get_error_stats(lemma_errors)"
   ]
  },
  {
   "cell_type": "code",
   "execution_count": null,
   "id": "3dd5ee8b",
   "metadata": {},
   "outputs": [],
   "source": [
    "get_error_stats(xpos_errors)"
   ]
  },
  {
   "cell_type": "code",
   "execution_count": null,
   "id": "4d6f146d",
   "metadata": {},
   "outputs": [],
   "source": [
    "get_error_stats(upos_errors)"
   ]
  },
  {
   "cell_type": "code",
   "execution_count": null,
   "id": "26f95b09",
   "metadata": {},
   "outputs": [],
   "source": []
  }
 ],
 "metadata": {
  "kernelspec": {
   "display_name": "Python 3 (ipykernel)",
   "language": "python",
   "name": "python3"
  },
  "language_info": {
   "codemirror_mode": {
    "name": "ipython",
    "version": 3
   },
   "file_extension": ".py",
   "mimetype": "text/x-python",
   "name": "python",
   "nbconvert_exporter": "python",
   "pygments_lexer": "ipython3",
   "version": "3.8.10"
  }
 },
 "nbformat": 4,
 "nbformat_minor": 5
}
