{
 "cells": [
  {
   "cell_type": "markdown",
   "id": "49003cba",
   "metadata": {},
   "source": [
    "# BERT EVALUATION"
   ]
  },
  {
   "cell_type": "markdown",
   "id": "34ce37b3",
   "metadata": {},
   "source": [
    "### IMPORTS, VARIABLES"
   ]
  },
  {
   "cell_type": "code",
   "execution_count": 1,
   "id": "96c2ab93",
   "metadata": {},
   "outputs": [],
   "source": [
    "import conllu\n",
    "import sklearn.metrics\n",
    "import pandas as pd\n",
    "import matplotlib.pyplot as plt\n",
    "import time\n",
    "\n",
    "pd.set_option('display.max_rows', None)"
   ]
  },
  {
   "cell_type": "code",
   "execution_count": 2,
   "id": "b0ccc10d",
   "metadata": {},
   "outputs": [],
   "source": [
    "xpos_predictions = './bert/polXPOS-model/test_predictions.txt'\n",
    "upos_predictions = './bert/polUPOS-model/test_predictions.txt'\n",
    "file_3k = '../data/memoirs_3k_corrected.conllu'\n",
    "file_10k = '../data/memoirs_10k_corrected.conllu'\n",
    "\n",
    "labels_xpos = './bert/data_XPOS/labels.txt'\n",
    "labels_upos = './bert/data_UPOS/labels.txt'"
   ]
  },
  {
   "cell_type": "code",
   "execution_count": 3,
   "id": "240cfd29",
   "metadata": {},
   "outputs": [],
   "source": [
    "from functions import extract_conllu_data, get_measures"
   ]
  },
  {
   "cell_type": "markdown",
   "id": "7b6b8db6",
   "metadata": {},
   "source": [
    "### FUNCTIONS"
   ]
  },
  {
   "cell_type": "code",
   "execution_count": 4,
   "id": "23d2bbb7",
   "metadata": {},
   "outputs": [],
   "source": [
    "def get_labels(filename: str):\n",
    "    with open(filename) as f:\n",
    "        labels = f.readlines()[1:]\n",
    "        labels = [x.strip() for x in labels]\n",
    "        \n",
    "    return labels"
   ]
  },
  {
   "cell_type": "markdown",
   "id": "dd46242f",
   "metadata": {},
   "source": [
    "### EXECUTION"
   ]
  },
  {
   "cell_type": "code",
   "execution_count": 5,
   "id": "7fc23b71",
   "metadata": {},
   "outputs": [],
   "source": [
    "labels_upos_list = get_labels(labels_upos)\n",
    "labels_xpos_list = get_labels(labels_xpos)"
   ]
  },
  {
   "cell_type": "code",
   "execution_count": 6,
   "id": "56b64c79",
   "metadata": {},
   "outputs": [
    {
     "ename": "ParseException",
     "evalue": "Failed parsing field 'id': '0-1' is not a valid ID.",
     "output_type": "error",
     "traceback": [
      "\u001b[0;31m---------------------------------------------------------------------------\u001b[0m",
      "\u001b[0;31mParseException\u001b[0m                            Traceback (most recent call last)",
      "File \u001b[0;32m~/.local/lib/python3.8/site-packages/conllu/parser.py:131\u001b[0m, in \u001b[0;36mparse_line\u001b[0;34m(line, fields, field_parsers)\u001b[0m\n\u001b[1;32m    130\u001b[0m \u001b[38;5;28;01mtry\u001b[39;00m:\n\u001b[0;32m--> 131\u001b[0m     value \u001b[38;5;241m=\u001b[39m \u001b[43mfield_parsers\u001b[49m\u001b[43m[\u001b[49m\u001b[43mfield\u001b[49m\u001b[43m]\u001b[49m\u001b[43m(\u001b[49m\u001b[43mline_split\u001b[49m\u001b[43m,\u001b[49m\u001b[43m \u001b[49m\u001b[43mi\u001b[49m\u001b[43m)\u001b[49m\n\u001b[1;32m    132\u001b[0m \u001b[38;5;28;01mexcept\u001b[39;00m ParseException \u001b[38;5;28;01mas\u001b[39;00m e:\n",
      "File \u001b[0;32m~/.local/lib/python3.8/site-packages/conllu/parser.py:13\u001b[0m, in \u001b[0;36m<lambda>\u001b[0;34m(line, i)\u001b[0m\n\u001b[1;32m     11\u001b[0m DEFAULT_FIELDS \u001b[38;5;241m=\u001b[39m (\u001b[38;5;124m'\u001b[39m\u001b[38;5;124mid\u001b[39m\u001b[38;5;124m'\u001b[39m, \u001b[38;5;124m'\u001b[39m\u001b[38;5;124mform\u001b[39m\u001b[38;5;124m'\u001b[39m, \u001b[38;5;124m'\u001b[39m\u001b[38;5;124mlemma\u001b[39m\u001b[38;5;124m'\u001b[39m, \u001b[38;5;124m'\u001b[39m\u001b[38;5;124mupos\u001b[39m\u001b[38;5;124m'\u001b[39m, \u001b[38;5;124m'\u001b[39m\u001b[38;5;124mxpos\u001b[39m\u001b[38;5;124m'\u001b[39m, \u001b[38;5;124m'\u001b[39m\u001b[38;5;124mfeats\u001b[39m\u001b[38;5;124m'\u001b[39m, \u001b[38;5;124m'\u001b[39m\u001b[38;5;124mhead\u001b[39m\u001b[38;5;124m'\u001b[39m, \u001b[38;5;124m'\u001b[39m\u001b[38;5;124mdeprel\u001b[39m\u001b[38;5;124m'\u001b[39m, \u001b[38;5;124m'\u001b[39m\u001b[38;5;124mdeps\u001b[39m\u001b[38;5;124m'\u001b[39m, \u001b[38;5;124m'\u001b[39m\u001b[38;5;124mmisc\u001b[39m\u001b[38;5;124m'\u001b[39m)\n\u001b[1;32m     12\u001b[0m DEFAULT_FIELD_PARSERS: T\u001b[38;5;241m.\u001b[39mDict[\u001b[38;5;28mstr\u001b[39m, _FieldParserType] \u001b[38;5;241m=\u001b[39m {\n\u001b[0;32m---> 13\u001b[0m     \u001b[38;5;124m\"\u001b[39m\u001b[38;5;124mid\u001b[39m\u001b[38;5;124m\"\u001b[39m: \u001b[38;5;28;01mlambda\u001b[39;00m line, i: \u001b[43mparse_id_value\u001b[49m\u001b[43m(\u001b[49m\u001b[43mline\u001b[49m\u001b[43m[\u001b[49m\u001b[43mi\u001b[49m\u001b[43m]\u001b[49m\u001b[43m)\u001b[49m,\n\u001b[1;32m     14\u001b[0m     \u001b[38;5;124m\"\u001b[39m\u001b[38;5;124mxpos\u001b[39m\u001b[38;5;124m\"\u001b[39m: \u001b[38;5;28;01mlambda\u001b[39;00m line, i: parse_nullable_value(line[i]),\n\u001b[1;32m     15\u001b[0m     \u001b[38;5;124m\"\u001b[39m\u001b[38;5;124mfeats\u001b[39m\u001b[38;5;124m\"\u001b[39m: \u001b[38;5;28;01mlambda\u001b[39;00m line, i: parse_dict_value(line[i]),\n\u001b[1;32m     16\u001b[0m     \u001b[38;5;124m\"\u001b[39m\u001b[38;5;124mhead\u001b[39m\u001b[38;5;124m\"\u001b[39m: \u001b[38;5;28;01mlambda\u001b[39;00m line, i: parse_int_value(line[i]),\n\u001b[1;32m     17\u001b[0m     \u001b[38;5;124m\"\u001b[39m\u001b[38;5;124mdeps\u001b[39m\u001b[38;5;124m\"\u001b[39m: \u001b[38;5;28;01mlambda\u001b[39;00m line, i: parse_paired_list_value(line[i]),\n\u001b[1;32m     18\u001b[0m     \u001b[38;5;124m\"\u001b[39m\u001b[38;5;124mmisc\u001b[39m\u001b[38;5;124m\"\u001b[39m: \u001b[38;5;28;01mlambda\u001b[39;00m line, i: parse_dict_value(line[i]),\n\u001b[1;32m     19\u001b[0m }\n\u001b[1;32m     20\u001b[0m DEFAULT_METADATA_PARSERS: T\u001b[38;5;241m.\u001b[39mDict[\u001b[38;5;28mstr\u001b[39m, _MetadataParserType] \u001b[38;5;241m=\u001b[39m {\n\u001b[1;32m     21\u001b[0m     \u001b[38;5;124m\"\u001b[39m\u001b[38;5;124mnewpar\u001b[39m\u001b[38;5;124m\"\u001b[39m: \u001b[38;5;28;01mlambda\u001b[39;00m key, value: (key, value),\n\u001b[1;32m     22\u001b[0m     \u001b[38;5;124m\"\u001b[39m\u001b[38;5;124mnewdoc\u001b[39m\u001b[38;5;124m\"\u001b[39m: \u001b[38;5;28;01mlambda\u001b[39;00m key, value: (key, value),\n\u001b[1;32m     23\u001b[0m }\n",
      "File \u001b[0;32m~/.local/lib/python3.8/site-packages/conllu/parser.py:218\u001b[0m, in \u001b[0;36mparse_id_value\u001b[0;34m(value)\u001b[0m\n\u001b[1;32m    216\u001b[0m     \u001b[38;5;28;01mreturn\u001b[39;00m (\u001b[38;5;28mint\u001b[39m(value\u001b[38;5;241m.\u001b[39msplit(\u001b[38;5;124m\"\u001b[39m\u001b[38;5;124m.\u001b[39m\u001b[38;5;124m\"\u001b[39m)[\u001b[38;5;241m0\u001b[39m]), \u001b[38;5;124m\"\u001b[39m\u001b[38;5;124m.\u001b[39m\u001b[38;5;124m\"\u001b[39m, \u001b[38;5;28mint\u001b[39m(value\u001b[38;5;241m.\u001b[39msplit(\u001b[38;5;124m\"\u001b[39m\u001b[38;5;124m.\u001b[39m\u001b[38;5;124m\"\u001b[39m)[\u001b[38;5;241m1\u001b[39m]))\n\u001b[0;32m--> 218\u001b[0m \u001b[38;5;28;01mraise\u001b[39;00m ParseException(\u001b[38;5;124m\"\u001b[39m\u001b[38;5;124m'\u001b[39m\u001b[38;5;132;01m{}\u001b[39;00m\u001b[38;5;124m'\u001b[39m\u001b[38;5;124m is not a valid ID.\u001b[39m\u001b[38;5;124m\"\u001b[39m\u001b[38;5;241m.\u001b[39mformat(value))\n",
      "\u001b[0;31mParseException\u001b[0m: '0-1' is not a valid ID.",
      "\nDuring handling of the above exception, another exception occurred:\n",
      "\u001b[0;31mParseException\u001b[0m                            Traceback (most recent call last)",
      "Input \u001b[0;32mIn [6]\u001b[0m, in \u001b[0;36m<cell line: 1>\u001b[0;34m()\u001b[0m\n\u001b[0;32m----> 1\u001b[0m upos_standard_list \u001b[38;5;241m=\u001b[39m \u001b[43mextract_conllu_data\u001b[49m\u001b[43m(\u001b[49m\u001b[43mfile_10k\u001b[49m\u001b[43m,\u001b[49m\u001b[38;5;124;43m'\u001b[39;49m\u001b[38;5;124;43mupos\u001b[39;49m\u001b[38;5;124;43m'\u001b[39;49m\u001b[43m,\u001b[49m\u001b[43m \u001b[49m\u001b[43msentences\u001b[49m\u001b[38;5;241;43m=\u001b[39;49m\u001b[38;5;28;43;01mFalse\u001b[39;49;00m\u001b[43m)\u001b[49m\n\u001b[1;32m      2\u001b[0m xpos_standard_list \u001b[38;5;241m=\u001b[39m extract_conllu_data(file_3k, \u001b[38;5;124m'\u001b[39m\u001b[38;5;124mxpos\u001b[39m\u001b[38;5;124m'\u001b[39m, sentences\u001b[38;5;241m=\u001b[39m\u001b[38;5;28;01mFalse\u001b[39;00m)\n",
      "File \u001b[0;32m/mnt/c/Users/Maria/LW_share/ma-thesis-swe/code/functions.py:33\u001b[0m, in \u001b[0;36mextract_conllu_data\u001b[0;34m(filename, feature, sentences)\u001b[0m\n\u001b[1;32m     30\u001b[0m \u001b[38;5;28;01mwith\u001b[39;00m \u001b[38;5;28mopen\u001b[39m(filename) \u001b[38;5;28;01mas\u001b[39;00m f:\n\u001b[1;32m     31\u001b[0m     text \u001b[38;5;241m=\u001b[39m f\u001b[38;5;241m.\u001b[39mread()\n\u001b[0;32m---> 33\u001b[0m sents \u001b[38;5;241m=\u001b[39m \u001b[43mconllu\u001b[49m\u001b[38;5;241;43m.\u001b[39;49m\u001b[43mparse\u001b[49m\u001b[43m(\u001b[49m\u001b[43mtext\u001b[49m\u001b[43m)\u001b[49m\n\u001b[1;32m     35\u001b[0m \u001b[38;5;28;01mfor\u001b[39;00m sentence \u001b[38;5;129;01min\u001b[39;00m sents:\n\u001b[1;32m     36\u001b[0m     data\u001b[38;5;241m.\u001b[39mappend(sentence\u001b[38;5;241m.\u001b[39mmetadata[\u001b[38;5;124m'\u001b[39m\u001b[38;5;124mtext\u001b[39m\u001b[38;5;124m'\u001b[39m])\n",
      "File \u001b[0;32m~/.local/lib/python3.8/site-packages/conllu/__init__.py:19\u001b[0m, in \u001b[0;36mparse\u001b[0;34m(data, fields, field_parsers, metadata_parsers)\u001b[0m\n\u001b[1;32m     15\u001b[0m \u001b[38;5;28;01mdef\u001b[39;00m \u001b[38;5;21mparse\u001b[39m(data: \u001b[38;5;28mstr\u001b[39m, fields: T\u001b[38;5;241m.\u001b[39mOptional[T\u001b[38;5;241m.\u001b[39mSequence[\u001b[38;5;28mstr\u001b[39m]] \u001b[38;5;241m=\u001b[39m \u001b[38;5;28;01mNone\u001b[39;00m,\n\u001b[1;32m     16\u001b[0m           field_parsers: T\u001b[38;5;241m.\u001b[39mDict[\u001b[38;5;28mstr\u001b[39m, _FieldParserType] \u001b[38;5;241m=\u001b[39m \u001b[38;5;28;01mNone\u001b[39;00m,\n\u001b[1;32m     17\u001b[0m           metadata_parsers: T\u001b[38;5;241m.\u001b[39mOptional[T\u001b[38;5;241m.\u001b[39mDict[\u001b[38;5;28mstr\u001b[39m, _MetadataParserType]] \u001b[38;5;241m=\u001b[39m \u001b[38;5;28;01mNone\u001b[39;00m\n\u001b[1;32m     18\u001b[0m           ) \u001b[38;5;241m-\u001b[39m\u001b[38;5;241m>\u001b[39m SentenceList:\n\u001b[0;32m---> 19\u001b[0m     \u001b[38;5;28;01mreturn\u001b[39;00m \u001b[43mSentenceList\u001b[49m\u001b[43m(\u001b[49m\u001b[43mparse_incr\u001b[49m\u001b[43m(\u001b[49m\n\u001b[1;32m     20\u001b[0m \u001b[43m        \u001b[49m\u001b[43mStringIO\u001b[49m\u001b[43m(\u001b[49m\u001b[43mdata\u001b[49m\u001b[43m)\u001b[49m\u001b[43m,\u001b[49m\n\u001b[1;32m     21\u001b[0m \u001b[43m        \u001b[49m\u001b[43mfields\u001b[49m\u001b[38;5;241;43m=\u001b[39;49m\u001b[43mfields\u001b[49m\u001b[43m,\u001b[49m\n\u001b[1;32m     22\u001b[0m \u001b[43m        \u001b[49m\u001b[43mfield_parsers\u001b[49m\u001b[38;5;241;43m=\u001b[39;49m\u001b[43mfield_parsers\u001b[49m\u001b[43m,\u001b[49m\n\u001b[1;32m     23\u001b[0m \u001b[43m        \u001b[49m\u001b[43mmetadata_parsers\u001b[49m\u001b[38;5;241;43m=\u001b[39;49m\u001b[43mmetadata_parsers\u001b[49m\n\u001b[1;32m     24\u001b[0m \u001b[43m    \u001b[49m\u001b[43m)\u001b[49m\u001b[43m)\u001b[49m\n",
      "File \u001b[0;32m~/.local/lib/python3.8/site-packages/conllu/models.py:303\u001b[0m, in \u001b[0;36mSentenceList.__init__\u001b[0;34m(self, sentences, metadata)\u001b[0m\n\u001b[1;32m    300\u001b[0m sentences \u001b[38;5;241m=\u001b[39m sentences \u001b[38;5;129;01mor\u001b[39;00m []\n\u001b[1;32m    302\u001b[0m \u001b[38;5;28;01mif\u001b[39;00m \u001b[38;5;28mhasattr\u001b[39m(sentences, \u001b[38;5;124m\"\u001b[39m\u001b[38;5;124m__next__\u001b[39m\u001b[38;5;124m\"\u001b[39m):\n\u001b[0;32m--> 303\u001b[0m     sentences \u001b[38;5;241m=\u001b[39m \u001b[38;5;28;43mlist\u001b[39;49m\u001b[43m(\u001b[49m\u001b[43msentences\u001b[49m\u001b[43m)\u001b[49m\n\u001b[1;32m    305\u001b[0m \u001b[38;5;28;01mif\u001b[39;00m \u001b[38;5;129;01mnot\u001b[39;00m \u001b[38;5;28misinstance\u001b[39m(sentences, \u001b[38;5;28mlist\u001b[39m):\n\u001b[1;32m    306\u001b[0m     \u001b[38;5;28;01mraise\u001b[39;00m ParseException(\u001b[38;5;124m\"\u001b[39m\u001b[38;5;124mCan\u001b[39m\u001b[38;5;124m'\u001b[39m\u001b[38;5;124mt create SentenceList, sentences is not a list.\u001b[39m\u001b[38;5;124m\"\u001b[39m)\n",
      "File \u001b[0;32m~/.local/lib/python3.8/site-packages/conllu/__init__.py:39\u001b[0m, in \u001b[0;36mparse_incr.<locals>.generator\u001b[0;34m()\u001b[0m\n\u001b[1;32m     37\u001b[0m \u001b[38;5;28;01mdef\u001b[39;00m \u001b[38;5;21mgenerator\u001b[39m():\n\u001b[1;32m     38\u001b[0m     \u001b[38;5;28;01mfor\u001b[39;00m sentence \u001b[38;5;129;01min\u001b[39;00m parse_sentences(in_file):\n\u001b[0;32m---> 39\u001b[0m         \u001b[38;5;28;01myield\u001b[39;00m \u001b[43mparse_token_and_metadata\u001b[49m\u001b[43m(\u001b[49m\n\u001b[1;32m     40\u001b[0m \u001b[43m            \u001b[49m\u001b[43msentence\u001b[49m\u001b[43m,\u001b[49m\n\u001b[1;32m     41\u001b[0m \u001b[43m            \u001b[49m\u001b[43mfields\u001b[49m\u001b[38;5;241;43m=\u001b[39;49m\u001b[43mfields\u001b[49m\u001b[43m,\u001b[49m\n\u001b[1;32m     42\u001b[0m \u001b[43m            \u001b[49m\u001b[43mfield_parsers\u001b[49m\u001b[38;5;241;43m=\u001b[39;49m\u001b[43mfield_parsers\u001b[49m\u001b[43m,\u001b[49m\n\u001b[1;32m     43\u001b[0m \u001b[43m            \u001b[49m\u001b[43mmetadata_parsers\u001b[49m\u001b[38;5;241;43m=\u001b[39;49m\u001b[43mmetadata_parsers\u001b[49m\n\u001b[1;32m     44\u001b[0m \u001b[43m        \u001b[49m\u001b[43m)\u001b[49m\n",
      "File \u001b[0;32m~/.local/lib/python3.8/site-packages/conllu/parser.py:96\u001b[0m, in \u001b[0;36mparse_token_and_metadata\u001b[0;34m(data, fields, field_parsers, metadata_parsers)\u001b[0m\n\u001b[1;32m     94\u001b[0m             metadata[key] \u001b[38;5;241m=\u001b[39m value\n\u001b[1;32m     95\u001b[0m     \u001b[38;5;28;01melse\u001b[39;00m:\n\u001b[0;32m---> 96\u001b[0m         tokens\u001b[38;5;241m.\u001b[39mappend(\u001b[43mparse_line\u001b[49m\u001b[43m(\u001b[49m\u001b[43mline\u001b[49m\u001b[43m,\u001b[49m\u001b[43m \u001b[49m\u001b[43mfields\u001b[49m\u001b[43m,\u001b[49m\u001b[43m \u001b[49m\u001b[43mfield_parsers\u001b[49m\u001b[43m)\u001b[49m)\n\u001b[1;32m     98\u001b[0m \u001b[38;5;28;01mreturn\u001b[39;00m TokenList(tokens, metadata, default_fields\u001b[38;5;241m=\u001b[39mfields)\n",
      "File \u001b[0;32m~/.local/lib/python3.8/site-packages/conllu/parser.py:133\u001b[0m, in \u001b[0;36mparse_line\u001b[0;34m(line, fields, field_parsers)\u001b[0m\n\u001b[1;32m    131\u001b[0m         value \u001b[38;5;241m=\u001b[39m field_parsers[field](line_split, i)\n\u001b[1;32m    132\u001b[0m     \u001b[38;5;28;01mexcept\u001b[39;00m ParseException \u001b[38;5;28;01mas\u001b[39;00m e:\n\u001b[0;32m--> 133\u001b[0m         \u001b[38;5;28;01mraise\u001b[39;00m ParseException(\u001b[38;5;124m\"\u001b[39m\u001b[38;5;124mFailed parsing field \u001b[39m\u001b[38;5;124m'\u001b[39m\u001b[38;5;132;01m{}\u001b[39;00m\u001b[38;5;124m'\u001b[39m\u001b[38;5;124m: \u001b[39m\u001b[38;5;124m\"\u001b[39m\u001b[38;5;241m.\u001b[39mformat(field) \u001b[38;5;241m+\u001b[39m \u001b[38;5;28mstr\u001b[39m(e))\n\u001b[1;32m    135\u001b[0m \u001b[38;5;28;01melse\u001b[39;00m:\n\u001b[1;32m    136\u001b[0m     value \u001b[38;5;241m=\u001b[39m line_split[i]\n",
      "\u001b[0;31mParseException\u001b[0m: Failed parsing field 'id': '0-1' is not a valid ID."
     ]
    }
   ],
   "source": [
    "upos_standard_list = extract_conllu_data(file_10k,'upos', sentences=False)\n",
    "xpos_standard_list = extract_conllu_data(file_3k, 'xpos', sentences=False)"
   ]
  },
  {
   "cell_type": "code",
   "execution_count": null,
   "id": "c6e91768",
   "metadata": {},
   "outputs": [],
   "source": []
  }
 ],
 "metadata": {
  "kernelspec": {
   "display_name": "Python 3 (ipykernel)",
   "language": "python",
   "name": "python3"
  },
  "language_info": {
   "codemirror_mode": {
    "name": "ipython",
    "version": 3
   },
   "file_extension": ".py",
   "mimetype": "text/x-python",
   "name": "python",
   "nbconvert_exporter": "python",
   "pygments_lexer": "ipython3",
   "version": "3.8.10"
  }
 },
 "nbformat": 4,
 "nbformat_minor": 5
}
