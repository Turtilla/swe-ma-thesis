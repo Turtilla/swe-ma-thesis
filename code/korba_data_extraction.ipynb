{
 "cells": [
  {
   "cell_type": "code",
   "execution_count": 29,
   "id": "1d222c62",
   "metadata": {},
   "outputs": [],
   "source": [
    "import os\n",
    "import xml.etree.ElementTree as ET\n",
    "\n",
    "path = '../data/korba_corpus/'"
   ]
  },
  {
   "cell_type": "code",
   "execution_count": null,
   "id": "8349149d",
   "metadata": {},
   "outputs": [],
   "source": [
    "for root, dirs, files in os.walk(path):\n",
    "    if len(dirs) > 0:\n",
    "        for directory in dirs:\n",
    "            new_path = os.path.join(path, directory, 'ann_morphosyntax.xml')\n",
    "            #print(new_path)\n",
    "            tree = ET.parse(new_path)\n",
    "            root = tree.getroot()\n",
    "            for child in root.findall('seg'):\n",
    "                print(child)"
   ]
  },
  {
   "cell_type": "code",
   "execution_count": null,
   "id": "25e900e7",
   "metadata": {},
   "outputs": [],
   "source": []
  }
 ],
 "metadata": {
  "kernelspec": {
   "display_name": "Python 3 (ipykernel)",
   "language": "python",
   "name": "python3"
  },
  "language_info": {
   "codemirror_mode": {
    "name": "ipython",
    "version": 3
   },
   "file_extension": ".py",
   "mimetype": "text/x-python",
   "name": "python",
   "nbconvert_exporter": "python",
   "pygments_lexer": "ipython3",
   "version": "3.8.10"
  }
 },
 "nbformat": 4,
 "nbformat_minor": 5
}
