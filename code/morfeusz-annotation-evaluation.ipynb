{
 "cells": [
  {
   "cell_type": "markdown",
   "id": "89518cdd",
   "metadata": {},
   "source": [
    "# MORFEUSZ & CONCRAFT EVALUATION"
   ]
  },
  {
   "cell_type": "markdown",
   "id": "e3677803",
   "metadata": {},
   "source": [
    "### IMPORTS, VARIABLES"
   ]
  },
  {
   "cell_type": "code",
   "execution_count": 1,
   "id": "c688d2a1",
   "metadata": {},
   "outputs": [],
   "source": [
    "# https://github.com/kawu/concraft-pl\n",
    "# https://github.com/kawu/concraft-pl/tree/master/bindings/python"
   ]
  },
  {
   "cell_type": "code",
   "execution_count": 2,
   "id": "ab283a81",
   "metadata": {},
   "outputs": [],
   "source": [
    "import sys\n",
    "import pandas as pd\n",
    "import os\n",
    "sys.path.append('../concraft-pl/bindings/python/')\n",
    "import itertools"
   ]
  },
  {
   "cell_type": "code",
   "execution_count": 3,
   "id": "5247dac3",
   "metadata": {},
   "outputs": [],
   "source": [
    "from morfeusz2 import Morfeusz\n",
    "from concraft_pl2 import Concraft, Server\n",
    "\n",
    "server = Server(model_path='../concraft-pl/model-SGJP.gz')\n",
    "\n",
    "file = '../data/memoirs_3k_corrected.conllu'\n",
    "\n",
    "test_file = '../data/ud-treebanks/UD_Polish-PDB/pl_pdb-ud-test.conllu'"
   ]
  },
  {
   "cell_type": "code",
   "execution_count": 4,
   "id": "e0012aea",
   "metadata": {},
   "outputs": [],
   "source": [
    "morfeusz = Morfeusz(expand_tags=True)\n",
    "concraft = Concraft()"
   ]
  },
  {
   "cell_type": "code",
   "execution_count": 5,
   "id": "8b3c4d01",
   "metadata": {},
   "outputs": [],
   "source": [
    "from functions import *\n",
    "from preproc_bert import remove_ranges"
   ]
  },
  {
   "cell_type": "markdown",
   "id": "a4643c6d",
   "metadata": {},
   "source": [
    "### FUNCTIONS AND CLASSES"
   ]
  },
  {
   "cell_type": "code",
   "execution_count": 6,
   "id": "3b7d1264",
   "metadata": {},
   "outputs": [],
   "source": [
    "class MorfeuszPredictions():\n",
    "    '''A class that retrieves and stores the Morfeusz+Concraft annotations on a text, supplying it with information whether a \n",
    "    part of the text was misparsed. Can return simple lists of annotations or token-annotation dictionaries.\n",
    "    \n",
    "    Attributes:\n",
    "        correct_preds (list[list[dict]]): A list of lists of dicts representing the tokens and annotations per input sentence.\n",
    "        morfeusz: The Morfeusz instance used.\n",
    "        concraft: The Concraft instance used.\n",
    "        lemma [list[list[str]]]: A list of lists representing the lemmas assigned by Morfeusz.\n",
    "        xpos [list[list[str]]]: A list of lists representing the XPOS tag assigned by Morfeusz.\n",
    "        probability [list[list[str]]]: A list of lists representing the probabilities of the annotation.\n",
    "        tokens [list[list[str]]]: The input tokens.\n",
    "        sents [list[str]]: The input sentences.\n",
    "    '''\n",
    "    \n",
    "    def __init__(self, test_tokens, sents, morfeusz, concraft):\n",
    "        '''The init method of the class. Retrieves the annotations and stores them appropriately.\n",
    "        \n",
    "        Arguments:\n",
    "            test_tokens (list[list[str]]): The input tokens.\n",
    "            sents [list[str]]: The input sentences.\n",
    "            morfeusz: The Morfeusz instance used.\n",
    "            concraft: The Concraft instance used.\n",
    "        '''\n",
    "        # setting up the attributes\n",
    "        self.correct_preds = []\n",
    "        self.morfeusz = morfeusz\n",
    "        self.concraft = concraft\n",
    "        self.tokens = test_tokens\n",
    "        self.sents = sents\n",
    "        \n",
    "        # retrieving annotations\n",
    "        for i, sent in enumerate(tqdm(self.sents)):\n",
    "            dag = self.morfeusz.analyse(sent)\n",
    "            dag_disamb = self.concraft.disamb(dag)\n",
    "            best_inter = best_interpretation(dag_disamb)\n",
    "            # obtaining all the combinations of original sentence and annotations\n",
    "            unique_combos = []\n",
    "            for j, word in enumerate(self.tokens[i]):\n",
    "                word_combos = []\n",
    "                for k, inter in enumerate(best_inter):\n",
    "                    word_combos.append((word,inter))\n",
    "                unique_combos.append(word_combos)\n",
    "            \n",
    "            # retrieving the correct annotations, inserting special message if no annotation was found \n",
    "            fixed_sentence = []\n",
    "            rejected_inters = 0\n",
    "            for j in range(len(self.tokens[i])):\n",
    "                current_word = self.tokens[i][j]\n",
    "                current_options = unique_combos[j]\n",
    "                winning_option = False\n",
    "\n",
    "                for k in range(rejected_inters, len(current_options)):\n",
    "                    option = current_options[k]\n",
    "                    if option[0] == option[1][2][0] and not winning_option:  # if the forms match and it's the first match\n",
    "                        # retrieving the lemma\n",
    "                        if ':' in option[1][2][1] and len(option[1][2][1]) > 1:\n",
    "                            lemma = option[1][2][1].split(':')[0]\n",
    "                        else:\n",
    "                            lemma = option[1][2][1]\n",
    "                        winning_option = {\n",
    "                            'form': option[0], 'lemma': lemma, 'xpos': option[1][2][2], 'probability': option[1][3]\n",
    "                        }\n",
    "                        rejected_inters = k  # all current_options are same length for a sentence, we reject already used ones\n",
    "\n",
    "                if not winning_option:  # if there was no match between forms - data was misparsed\n",
    "                    winning_option = {'form': current_word, 'lemma': 'MISPARSED', 'xpos': 'MISPARSED', 'probability': 'MISPARSED'}\n",
    "\n",
    "                fixed_sentence.append(winning_option)\n",
    "        \n",
    "            self.correct_preds.append(fixed_sentence)\n",
    "        # making lists of tags\n",
    "        self.__make_lists()\n",
    "            \n",
    "    def __make_lists(self):\n",
    "        '''A method of the class that retrieves the annotations from Morfeusz in the form of a list of lists.'''\n",
    "        self.lemma = []\n",
    "        self.xpos = []\n",
    "        self.probability = []\n",
    "\n",
    "        for i, sent in enumerate(self.correct_preds):\n",
    "            sent_lemma_list = []\n",
    "            sent_xpos_list = []\n",
    "            sent_prob_list = []\n",
    "\n",
    "            for k, entry in enumerate(sent):\n",
    "                sent_lemma_list.append(entry['lemma'])\n",
    "                sent_xpos_list.append(entry['xpos'])\n",
    "                sent_prob_list.append(entry['probability'])\n",
    "\n",
    "            self.lemma.append(sent_lemma_list)\n",
    "            self.xpos.append(sent_xpos_list)\n",
    "            self.probability.append(sent_prob_list)"
   ]
  },
  {
   "cell_type": "markdown",
   "id": "10f46351",
   "metadata": {},
   "source": [
    "### EXECUTION - MODERN"
   ]
  },
  {
   "cell_type": "code",
   "execution_count": 7,
   "id": "ef919f37",
   "metadata": {},
   "outputs": [],
   "source": [
    "# importing the UD test data\n",
    "test_tokens_upos, test_sents = extract_conllu_data(test_file, 'upos', sentences=True, combined=True)\n",
    "test_tokens_xpos, _ = extract_conllu_data(test_file, 'xpos', sentences=True, combined=True)\n",
    "test_tokens_lemmas, _ = extract_conllu_data(test_file, 'lemma', sentences=True, combined=True)\n",
    "\n",
    "# transforming it to a tagging-friendly format\n",
    "test_tokens, test_upos = make_tagger_friendly(test_tokens_upos)\n",
    "_, test_xpos = make_tagger_friendly(test_tokens_xpos)\n",
    "_, test_lemmas = make_tagger_friendly(test_tokens_lemmas)"
   ]
  },
  {
   "cell_type": "code",
   "execution_count": 8,
   "id": "c3a2b893",
   "metadata": {},
   "outputs": [
    {
     "name": "stderr",
     "output_type": "stream",
     "text": [
      "100%|███████████████████████████████████████████████████████████████████████████████| 2215/2215 [00:24<00:00, 91.19it/s]\n"
     ]
    }
   ],
   "source": [
    "test_preds = MorfeuszPredictions(test_tokens, test_sents, morfeusz, concraft)"
   ]
  },
  {
   "cell_type": "code",
   "execution_count": 9,
   "id": "2b907ca5",
   "metadata": {},
   "outputs": [
    {
     "name": "stdout",
     "output_type": "stream",
     "text": [
      "MEASURES:\n",
      "Accuracy: 94.43%\n",
      "Precision (weighted): 95.36%\n",
      "Recall (weighted): 94.43%\n",
      "F1 (weighted): 94.56%\n",
      "Matthew's Correlation Coefficient: 94.20%\n"
     ]
    }
   ],
   "source": [
    "get_measures([x for sentence in test_xpos for x in sentence], [x for sentence in test_preds.xpos for x in sentence])"
   ]
  },
  {
   "cell_type": "code",
   "execution_count": 10,
   "id": "67074fba",
   "metadata": {},
   "outputs": [
    {
     "name": "stdout",
     "output_type": "stream",
     "text": [
      "Accuracy: 97.77%\n"
     ]
    }
   ],
   "source": [
    "get_lemma_measures(test_lemmas, test_preds.lemma)"
   ]
  },
  {
   "cell_type": "markdown",
   "id": "aaca392d",
   "metadata": {},
   "source": [
    "### EXECUTION - HISTORICAL"
   ]
  },
  {
   "cell_type": "code",
   "execution_count": 11,
   "id": "466c700e",
   "metadata": {},
   "outputs": [],
   "source": [
    "# importing the test data\n",
    "tokens_upos, sents = extract_conllu_data(file, 'upos', sentences=True, combined=True)\n",
    "tokens_xpos, _ = extract_conllu_data(file, 'xpos', sentences=True, combined=True)\n",
    "tokens_lemmas, _ = extract_conllu_data(file, 'lemma', sentences=True, combined=True)\n",
    "\n",
    "# transforming it to a tagging-friendly format\n",
    "tokens, upos = make_tagger_friendly(tokens_upos)\n",
    "_, xpos = make_tagger_friendly(tokens_xpos)\n",
    "_, lemmas = make_tagger_friendly(tokens_lemmas)"
   ]
  },
  {
   "cell_type": "code",
   "execution_count": 12,
   "id": "3ce59abe",
   "metadata": {},
   "outputs": [
    {
     "name": "stderr",
     "output_type": "stream",
     "text": [
      "100%|█████████████████████████████████████████████████████████████████████████████████| 115/115 [00:03<00:00, 36.59it/s]\n"
     ]
    }
   ],
   "source": [
    "hist_preds = MorfeuszPredictions(tokens, sents, morfeusz, concraft)"
   ]
  },
  {
   "cell_type": "code",
   "execution_count": 13,
   "id": "775a8940",
   "metadata": {},
   "outputs": [
    {
     "name": "stdout",
     "output_type": "stream",
     "text": [
      "MEASURES:\n",
      "Accuracy: 87.77%\n",
      "Precision (weighted): 89.85%\n",
      "Recall (weighted): 87.77%\n",
      "F1 (weighted): 88.14%\n",
      "Matthew's Correlation Coefficient: 87.39%\n"
     ]
    }
   ],
   "source": [
    "get_measures([x for sentence in xpos for x in sentence], [x for sentence in hist_preds.xpos for x in sentence])"
   ]
  },
  {
   "cell_type": "code",
   "execution_count": 14,
   "id": "5cb0d590",
   "metadata": {},
   "outputs": [],
   "source": [
    "xpos_comparison = get_comparison(\n",
    "        [x for sentence in xpos for x in sentence], \n",
    "        [x for sentence in hist_preds.xpos for x in sentence], \n",
    "        [x for sentence in tokens for x in sentence],\n",
    "        [x for sentence in hist_preds.probability for x in sentence]\n",
    ")\n",
    "xpos_comparison.to_excel('../data/mistakes/Morfeusz_XPOS_mistakes.xlsx')"
   ]
  },
  {
   "cell_type": "code",
   "execution_count": 15,
   "id": "4a5f49ef",
   "metadata": {},
   "outputs": [
    {
     "data": {
      "text/html": [
       "<div>\n",
       "<style scoped>\n",
       "    .dataframe tbody tr th:only-of-type {\n",
       "        vertical-align: middle;\n",
       "    }\n",
       "\n",
       "    .dataframe tbody tr th {\n",
       "        vertical-align: top;\n",
       "    }\n",
       "\n",
       "    .dataframe thead th {\n",
       "        text-align: right;\n",
       "    }\n",
       "</style>\n",
       "<table border=\"1\" class=\"dataframe\">\n",
       "  <thead>\n",
       "    <tr style=\"text-align: right;\">\n",
       "      <th></th>\n",
       "      <th>Token</th>\n",
       "      <th>Context</th>\n",
       "      <th>Gold Standard</th>\n",
       "      <th>Prediction</th>\n",
       "      <th>Confidence</th>\n",
       "    </tr>\n",
       "  </thead>\n",
       "  <tbody>\n",
       "    <tr>\n",
       "      <th>0</th>\n",
       "      <td>Dziad</td>\n",
       "      <td>Dziad mój</td>\n",
       "      <td>subst:sg:nom:m1</td>\n",
       "      <td>subst:sg:acc:f</td>\n",
       "      <td>0.5388</td>\n",
       "    </tr>\n",
       "    <tr>\n",
       "      <th>1</th>\n",
       "      <td>mój</td>\n",
       "      <td>Dziad mój Melchior</td>\n",
       "      <td>adj:sg:nom:m1:pos</td>\n",
       "      <td>adj:sg:nom:m3:pos</td>\n",
       "      <td>0.7220</td>\n",
       "    </tr>\n",
       "    <tr>\n",
       "      <th>2</th>\n",
       "      <td>Melchior</td>\n",
       "      <td>mój Melchior urodzony</td>\n",
       "      <td>subst:sg:nom:m1</td>\n",
       "      <td>subst:sg:nom:m3</td>\n",
       "      <td>0.7171</td>\n",
       "    </tr>\n",
       "    <tr>\n",
       "      <th>3</th>\n",
       "      <td>urodzony</td>\n",
       "      <td>Melchior urodzony roku</td>\n",
       "      <td>adj:sg:nom:m1:pos</td>\n",
       "      <td>adj:sg:nom:m3:pos</td>\n",
       "      <td>0.7244</td>\n",
       "    </tr>\n",
       "    <tr>\n",
       "      <th>4</th>\n",
       "      <td>1741</td>\n",
       "      <td>roku 1741 we</td>\n",
       "      <td>adj:sg:gen:m3:pos</td>\n",
       "      <td>dig</td>\n",
       "      <td>1.0000</td>\n",
       "    </tr>\n",
       "    <tr>\n",
       "      <th>...</th>\n",
       "      <td>...</td>\n",
       "      <td>...</td>\n",
       "      <td>...</td>\n",
       "      <td>...</td>\n",
       "      <td>...</td>\n",
       "    </tr>\n",
       "    <tr>\n",
       "      <th>395</th>\n",
       "      <td>secundo</td>\n",
       "      <td>Julia secundo voto</td>\n",
       "      <td>ign</td>\n",
       "      <td>subst:sg:nom:f</td>\n",
       "      <td>0.9426</td>\n",
       "    </tr>\n",
       "    <tr>\n",
       "      <th>396</th>\n",
       "      <td>voto</td>\n",
       "      <td>secundo voto Szołayska</td>\n",
       "      <td>ign</td>\n",
       "      <td>part</td>\n",
       "      <td>0.9400</td>\n",
       "    </tr>\n",
       "    <tr>\n",
       "      <th>397</th>\n",
       "      <td>ich</td>\n",
       "      <td>miała ich też</td>\n",
       "      <td>ppron3:pl:acc:m3:ter:akc:npraep</td>\n",
       "      <td>ppron3:pl:acc:m1:ter:akc:npraep</td>\n",
       "      <td>0.9896</td>\n",
       "    </tr>\n",
       "    <tr>\n",
       "      <th>398</th>\n",
       "      <td>Lesniowic</td>\n",
       "      <td>do Lesniowic przyległe</td>\n",
       "      <td>subst:pl:gen:n:pt</td>\n",
       "      <td>subst:sg:gen:n:ncol</td>\n",
       "      <td>0.4411</td>\n",
       "    </tr>\n",
       "    <tr>\n",
       "      <th>399</th>\n",
       "      <td>Mosty</td>\n",
       "      <td>przyległe Mosty .</td>\n",
       "      <td>subst:pl:acc:n:pt</td>\n",
       "      <td>subst:pl:acc:m3</td>\n",
       "      <td>0.7433</td>\n",
       "    </tr>\n",
       "  </tbody>\n",
       "</table>\n",
       "<p>400 rows × 5 columns</p>\n",
       "</div>"
      ],
      "text/plain": [
       "         Token                 Context                    Gold Standard  \\\n",
       "0        Dziad               Dziad mój                  subst:sg:nom:m1   \n",
       "1          mój      Dziad mój Melchior                adj:sg:nom:m1:pos   \n",
       "2     Melchior   mój Melchior urodzony                  subst:sg:nom:m1   \n",
       "3     urodzony  Melchior urodzony roku                adj:sg:nom:m1:pos   \n",
       "4         1741            roku 1741 we                adj:sg:gen:m3:pos   \n",
       "..         ...                     ...                              ...   \n",
       "395    secundo      Julia secundo voto                              ign   \n",
       "396       voto  secundo voto Szołayska                              ign   \n",
       "397        ich           miała ich też  ppron3:pl:acc:m3:ter:akc:npraep   \n",
       "398  Lesniowic  do Lesniowic przyległe                subst:pl:gen:n:pt   \n",
       "399      Mosty       przyległe Mosty .                subst:pl:acc:n:pt   \n",
       "\n",
       "                          Prediction Confidence  \n",
       "0                     subst:sg:acc:f     0.5388  \n",
       "1                  adj:sg:nom:m3:pos     0.7220  \n",
       "2                    subst:sg:nom:m3     0.7171  \n",
       "3                  adj:sg:nom:m3:pos     0.7244  \n",
       "4                                dig     1.0000  \n",
       "..                               ...        ...  \n",
       "395                   subst:sg:nom:f     0.9426  \n",
       "396                             part     0.9400  \n",
       "397  ppron3:pl:acc:m1:ter:akc:npraep     0.9896  \n",
       "398              subst:sg:gen:n:ncol     0.4411  \n",
       "399                  subst:pl:acc:m3     0.7433  \n",
       "\n",
       "[400 rows x 5 columns]"
      ]
     },
     "execution_count": 15,
     "metadata": {},
     "output_type": "execute_result"
    }
   ],
   "source": [
    "xpos_comparison"
   ]
  },
  {
   "cell_type": "code",
   "execution_count": 16,
   "id": "149ba3dc",
   "metadata": {},
   "outputs": [
    {
     "name": "stdout",
     "output_type": "stream",
     "text": [
      "Accuracy: 91.96%\n"
     ]
    }
   ],
   "source": [
    "get_lemma_measures(lemmas, hist_preds.lemma)"
   ]
  },
  {
   "cell_type": "code",
   "execution_count": 17,
   "id": "5fce657f",
   "metadata": {},
   "outputs": [],
   "source": [
    "lemma_comparison = get_lemma_comparison(lemmas, hist_preds.lemma, tokens)\n",
    "lemma_comparison.to_excel('../data/mistakes/Morfeusz_lemma_mistakes.xlsx')"
   ]
  },
  {
   "cell_type": "code",
   "execution_count": 18,
   "id": "873faab4",
   "metadata": {},
   "outputs": [
    {
     "data": {
      "text/html": [
       "<div>\n",
       "<style scoped>\n",
       "    .dataframe tbody tr th:only-of-type {\n",
       "        vertical-align: middle;\n",
       "    }\n",
       "\n",
       "    .dataframe tbody tr th {\n",
       "        vertical-align: top;\n",
       "    }\n",
       "\n",
       "    .dataframe thead th {\n",
       "        text-align: right;\n",
       "    }\n",
       "</style>\n",
       "<table border=\"1\" class=\"dataframe\">\n",
       "  <thead>\n",
       "    <tr style=\"text-align: right;\">\n",
       "      <th></th>\n",
       "      <th>Token</th>\n",
       "      <th>Context</th>\n",
       "      <th>Gold Standard</th>\n",
       "      <th>Prediction</th>\n",
       "    </tr>\n",
       "  </thead>\n",
       "  <tbody>\n",
       "    <tr>\n",
       "      <th>0</th>\n",
       "      <td>dziad</td>\n",
       "      <td>dziad mój</td>\n",
       "      <td>dziad</td>\n",
       "      <td>Dziad</td>\n",
       "    </tr>\n",
       "    <tr>\n",
       "      <th>1</th>\n",
       "      <td>komornika</td>\n",
       "      <td>jana komornika ziemi</td>\n",
       "      <td>komornik</td>\n",
       "      <td>Komornik</td>\n",
       "    </tr>\n",
       "    <tr>\n",
       "      <th>2</th>\n",
       "      <td>dobrrzyńskiej</td>\n",
       "      <td>ziemi dobrrzyńskiej (</td>\n",
       "      <td>dobrzyńska</td>\n",
       "      <td>Dobrrzyńskiej</td>\n",
       "    </tr>\n",
       "    <tr>\n",
       "      <th>3</th>\n",
       "      <td>p</td>\n",
       "      <td>. p .</td>\n",
       "      <td>p</td>\n",
       "      <td>List_świętego_Piotra</td>\n",
       "    </tr>\n",
       "    <tr>\n",
       "      <th>4</th>\n",
       "      <td>wdokumentach</td>\n",
       "      <td>później wdokumentach się</td>\n",
       "      <td>dokument</td>\n",
       "      <td>wdokumentach</td>\n",
       "    </tr>\n",
       "    <tr>\n",
       "      <th>...</th>\n",
       "      <td>...</td>\n",
       "      <td>...</td>\n",
       "      <td>...</td>\n",
       "      <td>...</td>\n",
       "    </tr>\n",
       "    <tr>\n",
       "      <th>258</th>\n",
       "      <td>szołayskiego</td>\n",
       "      <td>pana szołayskiego młodzika</td>\n",
       "      <td>Szołayski</td>\n",
       "      <td>Szołayskiego</td>\n",
       "    </tr>\n",
       "    <tr>\n",
       "      <th>259</th>\n",
       "      <td>separacya</td>\n",
       "      <td>nastąpiła separacya .</td>\n",
       "      <td>separacya</td>\n",
       "      <td>Separacya</td>\n",
       "    </tr>\n",
       "    <tr>\n",
       "      <th>260</th>\n",
       "      <td>procesa</td>\n",
       "      <td>lubiła procesa –</td>\n",
       "      <td>proces</td>\n",
       "      <td>procesa</td>\n",
       "    </tr>\n",
       "    <tr>\n",
       "      <th>261</th>\n",
       "      <td>lesniowic</td>\n",
       "      <td>do lesniowic przyległe</td>\n",
       "      <td>Lesniowice</td>\n",
       "      <td>Lesniowic</td>\n",
       "    </tr>\n",
       "    <tr>\n",
       "      <th>262</th>\n",
       "      <td>mosty</td>\n",
       "      <td>przyległe mosty .</td>\n",
       "      <td>Mosty</td>\n",
       "      <td>Most</td>\n",
       "    </tr>\n",
       "  </tbody>\n",
       "</table>\n",
       "<p>263 rows × 4 columns</p>\n",
       "</div>"
      ],
      "text/plain": [
       "             Token                     Context Gold Standard  \\\n",
       "0            dziad                   dziad mój         dziad   \n",
       "1        komornika        jana komornika ziemi      komornik   \n",
       "2    dobrrzyńskiej       ziemi dobrrzyńskiej (    dobrzyńska   \n",
       "3                p                       . p .             p   \n",
       "4     wdokumentach    później wdokumentach się      dokument   \n",
       "..             ...                         ...           ...   \n",
       "258   szołayskiego  pana szołayskiego młodzika     Szołayski   \n",
       "259      separacya       nastąpiła separacya .     separacya   \n",
       "260        procesa            lubiła procesa –        proces   \n",
       "261      lesniowic      do lesniowic przyległe    Lesniowice   \n",
       "262          mosty           przyległe mosty .         Mosty   \n",
       "\n",
       "               Prediction  \n",
       "0                   Dziad  \n",
       "1                Komornik  \n",
       "2           Dobrrzyńskiej  \n",
       "3    List_świętego_Piotra  \n",
       "4            wdokumentach  \n",
       "..                    ...  \n",
       "258          Szołayskiego  \n",
       "259             Separacya  \n",
       "260               procesa  \n",
       "261             Lesniowic  \n",
       "262                  Most  \n",
       "\n",
       "[263 rows x 4 columns]"
      ]
     },
     "execution_count": 18,
     "metadata": {},
     "output_type": "execute_result"
    }
   ],
   "source": [
    "lemma_comparison"
   ]
  },
  {
   "cell_type": "code",
   "execution_count": null,
   "id": "ef5cc414",
   "metadata": {},
   "outputs": [],
   "source": []
  }
 ],
 "metadata": {
  "kernelspec": {
   "display_name": "Python 3 (ipykernel)",
   "language": "python",
   "name": "python3"
  },
  "language_info": {
   "codemirror_mode": {
    "name": "ipython",
    "version": 3
   },
   "file_extension": ".py",
   "mimetype": "text/x-python",
   "name": "python",
   "nbconvert_exporter": "python",
   "pygments_lexer": "ipython3",
   "version": "3.8.10"
  }
 },
 "nbformat": 4,
 "nbformat_minor": 5
}
